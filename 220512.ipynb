{
 "cells": [
  {
   "cell_type": "code",
   "execution_count": 1,
   "id": "94178130",
   "metadata": {
    "ExecuteTime": {
     "end_time": "2022-05-12T06:49:53.835499Z",
     "start_time": "2022-05-12T06:49:42.730508Z"
    }
   },
   "outputs": [],
   "source": [
    "import tensorflow as tf\n",
    "import tensorflow.keras as keras\n",
    "from sklearn.preprocessing import StandardScaler, MinMaxScaler"
   ]
  },
  {
   "cell_type": "code",
   "execution_count": 2,
   "id": "4e136f6c",
   "metadata": {
    "ExecuteTime": {
     "end_time": "2022-05-12T06:49:53.851514Z",
     "start_time": "2022-05-12T06:49:53.838523Z"
    }
   },
   "outputs": [],
   "source": [
    "mnist = keras.datasets.mnist"
   ]
  },
  {
   "cell_type": "code",
   "execution_count": 3,
   "id": "2a894b1e",
   "metadata": {
    "ExecuteTime": {
     "end_time": "2022-05-12T06:49:54.388581Z",
     "start_time": "2022-05-12T06:49:53.854495Z"
    }
   },
   "outputs": [],
   "source": [
    "(X_train, y_train), (X_test, y_test) = mnist.load_data()"
   ]
  },
  {
   "cell_type": "code",
   "execution_count": 4,
   "id": "c8062063",
   "metadata": {
    "ExecuteTime": {
     "end_time": "2022-05-12T06:49:54.420642Z",
     "start_time": "2022-05-12T06:49:54.393524Z"
    }
   },
   "outputs": [
    {
     "data": {
      "text/plain": [
       "(60000, 28, 28)"
      ]
     },
     "execution_count": 4,
     "metadata": {},
     "output_type": "execute_result"
    }
   ],
   "source": [
    "X_train.shape"
   ]
  },
  {
   "cell_type": "markdown",
   "id": "a7451671",
   "metadata": {},
   "source": [
    "# 정규화"
   ]
  },
  {
   "cell_type": "code",
   "execution_count": 5,
   "id": "8a2d020f",
   "metadata": {
    "ExecuteTime": {
     "end_time": "2022-05-12T06:49:54.436651Z",
     "start_time": "2022-05-12T06:49:54.422639Z"
    }
   },
   "outputs": [],
   "source": [
    "#X_train , X_test = X_train / 255.0 , X_test / 255.0"
   ]
  },
  {
   "cell_type": "code",
   "execution_count": 6,
   "id": "a55557b3",
   "metadata": {
    "ExecuteTime": {
     "end_time": "2022-05-12T06:49:54.452624Z",
     "start_time": "2022-05-12T06:49:54.440631Z"
    }
   },
   "outputs": [],
   "source": [
    "sc = MinMaxScaler()"
   ]
  },
  {
   "cell_type": "code",
   "execution_count": null,
   "id": "a745572d",
   "metadata": {},
   "outputs": [],
   "source": []
  },
  {
   "cell_type": "code",
   "execution_count": 7,
   "id": "b57c6a8a",
   "metadata": {
    "ExecuteTime": {
     "end_time": "2022-05-12T06:49:54.467612Z",
     "start_time": "2022-05-12T06:49:54.457620Z"
    }
   },
   "outputs": [],
   "source": [
    "from keras.models import Sequential\n",
    "from keras.layers import Dense, Flatten"
   ]
  },
  {
   "cell_type": "code",
   "execution_count": 8,
   "id": "b67c67da",
   "metadata": {
    "ExecuteTime": {
     "end_time": "2022-05-12T06:49:54.626989Z",
     "start_time": "2022-05-12T06:49:54.471611Z"
    }
   },
   "outputs": [
    {
     "name": "stdout",
     "output_type": "stream",
     "text": [
      "Model: \"sequential\"\n",
      "_________________________________________________________________\n",
      " Layer (type)                Output Shape              Param #   \n",
      "=================================================================\n",
      " flatten (Flatten)           (None, 784)               0         \n",
      "                                                                 \n",
      " dense (Dense)               (None, 512)               401920    \n",
      "                                                                 \n",
      " dense_1 (Dense)             (None, 512)               262656    \n",
      "                                                                 \n",
      "=================================================================\n",
      "Total params: 664,576\n",
      "Trainable params: 664,576\n",
      "Non-trainable params: 0\n",
      "_________________________________________________________________\n"
     ]
    }
   ],
   "source": [
    "model = Sequential()\n",
    "\n",
    "model.add(Flatten(input_shape = (28,28))) # 낮은 차원으로 풀어주는 Flatten\n",
    "\n",
    "model.add(Dense(512, activation='relu'))\n",
    "\n",
    "model.add(Dense(512, activation='softmax'))\n",
    "\n",
    "model.summary()"
   ]
  },
  {
   "cell_type": "code",
   "execution_count": 9,
   "id": "3fdad1bb",
   "metadata": {
    "ExecuteTime": {
     "end_time": "2022-05-12T06:49:54.658978Z",
     "start_time": "2022-05-12T06:49:54.631987Z"
    }
   },
   "outputs": [],
   "source": [
    "model.compile(optimizer='adam', loss='sparse_categorical_crossentropy', metrics=['accuracy'])"
   ]
  },
  {
   "cell_type": "code",
   "execution_count": 10,
   "id": "b58c49b0",
   "metadata": {
    "ExecuteTime": {
     "end_time": "2022-05-12T06:49:58.562492Z",
     "start_time": "2022-05-12T06:49:54.663968Z"
    },
    "collapsed": true
   },
   "outputs": [
    {
     "name": "stdout",
     "output_type": "stream",
     "text": [
      "Epoch 1/5\n",
      "  56/1875 [..............................] - ETA: 14s - loss: 18.4447 - accuracy: 0.7215"
     ]
    },
    {
     "ename": "KeyboardInterrupt",
     "evalue": "",
     "output_type": "error",
     "traceback": [
      "\u001b[1;31m---------------------------------------------------------------------------\u001b[0m",
      "\u001b[1;31mKeyboardInterrupt\u001b[0m                         Traceback (most recent call last)",
      "Input \u001b[1;32mIn [10]\u001b[0m, in \u001b[0;36m<cell line: 1>\u001b[1;34m()\u001b[0m\n\u001b[1;32m----> 1\u001b[0m \u001b[43mmodel\u001b[49m\u001b[38;5;241;43m.\u001b[39;49m\u001b[43mfit\u001b[49m\u001b[43m(\u001b[49m\u001b[43mX_train\u001b[49m\u001b[43m,\u001b[49m\u001b[43m \u001b[49m\u001b[43my_train\u001b[49m\u001b[43m,\u001b[49m\u001b[43m \u001b[49m\u001b[43mepochs\u001b[49m\u001b[38;5;241;43m=\u001b[39;49m\u001b[38;5;241;43m5\u001b[39;49m\u001b[43m)\u001b[49m\n",
      "File \u001b[1;32m~\\anaconda3\\envs\\py39tf2\\lib\\site-packages\\keras\\utils\\traceback_utils.py:64\u001b[0m, in \u001b[0;36mfilter_traceback.<locals>.error_handler\u001b[1;34m(*args, **kwargs)\u001b[0m\n\u001b[0;32m     62\u001b[0m filtered_tb \u001b[38;5;241m=\u001b[39m \u001b[38;5;28;01mNone\u001b[39;00m\n\u001b[0;32m     63\u001b[0m \u001b[38;5;28;01mtry\u001b[39;00m:\n\u001b[1;32m---> 64\u001b[0m   \u001b[38;5;28;01mreturn\u001b[39;00m fn(\u001b[38;5;241m*\u001b[39margs, \u001b[38;5;241m*\u001b[39m\u001b[38;5;241m*\u001b[39mkwargs)\n\u001b[0;32m     65\u001b[0m \u001b[38;5;28;01mexcept\u001b[39;00m \u001b[38;5;167;01mException\u001b[39;00m \u001b[38;5;28;01mas\u001b[39;00m e:  \u001b[38;5;66;03m# pylint: disable=broad-except\u001b[39;00m\n\u001b[0;32m     66\u001b[0m   filtered_tb \u001b[38;5;241m=\u001b[39m _process_traceback_frames(e\u001b[38;5;241m.\u001b[39m__traceback__)\n",
      "File \u001b[1;32m~\\anaconda3\\envs\\py39tf2\\lib\\site-packages\\keras\\engine\\training.py:1384\u001b[0m, in \u001b[0;36mModel.fit\u001b[1;34m(self, x, y, batch_size, epochs, verbose, callbacks, validation_split, validation_data, shuffle, class_weight, sample_weight, initial_epoch, steps_per_epoch, validation_steps, validation_batch_size, validation_freq, max_queue_size, workers, use_multiprocessing)\u001b[0m\n\u001b[0;32m   1377\u001b[0m \u001b[38;5;28;01mwith\u001b[39;00m tf\u001b[38;5;241m.\u001b[39mprofiler\u001b[38;5;241m.\u001b[39mexperimental\u001b[38;5;241m.\u001b[39mTrace(\n\u001b[0;32m   1378\u001b[0m     \u001b[38;5;124m'\u001b[39m\u001b[38;5;124mtrain\u001b[39m\u001b[38;5;124m'\u001b[39m,\n\u001b[0;32m   1379\u001b[0m     epoch_num\u001b[38;5;241m=\u001b[39mepoch,\n\u001b[0;32m   1380\u001b[0m     step_num\u001b[38;5;241m=\u001b[39mstep,\n\u001b[0;32m   1381\u001b[0m     batch_size\u001b[38;5;241m=\u001b[39mbatch_size,\n\u001b[0;32m   1382\u001b[0m     _r\u001b[38;5;241m=\u001b[39m\u001b[38;5;241m1\u001b[39m):\n\u001b[0;32m   1383\u001b[0m   callbacks\u001b[38;5;241m.\u001b[39mon_train_batch_begin(step)\n\u001b[1;32m-> 1384\u001b[0m   tmp_logs \u001b[38;5;241m=\u001b[39m \u001b[38;5;28;43mself\u001b[39;49m\u001b[38;5;241;43m.\u001b[39;49m\u001b[43mtrain_function\u001b[49m\u001b[43m(\u001b[49m\u001b[43miterator\u001b[49m\u001b[43m)\u001b[49m\n\u001b[0;32m   1385\u001b[0m   \u001b[38;5;28;01mif\u001b[39;00m data_handler\u001b[38;5;241m.\u001b[39mshould_sync:\n\u001b[0;32m   1386\u001b[0m     context\u001b[38;5;241m.\u001b[39masync_wait()\n",
      "File \u001b[1;32m~\\anaconda3\\envs\\py39tf2\\lib\\site-packages\\tensorflow\\python\\util\\traceback_utils.py:150\u001b[0m, in \u001b[0;36mfilter_traceback.<locals>.error_handler\u001b[1;34m(*args, **kwargs)\u001b[0m\n\u001b[0;32m    148\u001b[0m filtered_tb \u001b[38;5;241m=\u001b[39m \u001b[38;5;28;01mNone\u001b[39;00m\n\u001b[0;32m    149\u001b[0m \u001b[38;5;28;01mtry\u001b[39;00m:\n\u001b[1;32m--> 150\u001b[0m   \u001b[38;5;28;01mreturn\u001b[39;00m fn(\u001b[38;5;241m*\u001b[39margs, \u001b[38;5;241m*\u001b[39m\u001b[38;5;241m*\u001b[39mkwargs)\n\u001b[0;32m    151\u001b[0m \u001b[38;5;28;01mexcept\u001b[39;00m \u001b[38;5;167;01mException\u001b[39;00m \u001b[38;5;28;01mas\u001b[39;00m e:\n\u001b[0;32m    152\u001b[0m   filtered_tb \u001b[38;5;241m=\u001b[39m _process_traceback_frames(e\u001b[38;5;241m.\u001b[39m__traceback__)\n",
      "File \u001b[1;32m~\\anaconda3\\envs\\py39tf2\\lib\\site-packages\\tensorflow\\python\\eager\\def_function.py:915\u001b[0m, in \u001b[0;36mFunction.__call__\u001b[1;34m(self, *args, **kwds)\u001b[0m\n\u001b[0;32m    912\u001b[0m compiler \u001b[38;5;241m=\u001b[39m \u001b[38;5;124m\"\u001b[39m\u001b[38;5;124mxla\u001b[39m\u001b[38;5;124m\"\u001b[39m \u001b[38;5;28;01mif\u001b[39;00m \u001b[38;5;28mself\u001b[39m\u001b[38;5;241m.\u001b[39m_jit_compile \u001b[38;5;28;01melse\u001b[39;00m \u001b[38;5;124m\"\u001b[39m\u001b[38;5;124mnonXla\u001b[39m\u001b[38;5;124m\"\u001b[39m\n\u001b[0;32m    914\u001b[0m \u001b[38;5;28;01mwith\u001b[39;00m OptionalXlaContext(\u001b[38;5;28mself\u001b[39m\u001b[38;5;241m.\u001b[39m_jit_compile):\n\u001b[1;32m--> 915\u001b[0m   result \u001b[38;5;241m=\u001b[39m \u001b[38;5;28mself\u001b[39m\u001b[38;5;241m.\u001b[39m_call(\u001b[38;5;241m*\u001b[39margs, \u001b[38;5;241m*\u001b[39m\u001b[38;5;241m*\u001b[39mkwds)\n\u001b[0;32m    917\u001b[0m new_tracing_count \u001b[38;5;241m=\u001b[39m \u001b[38;5;28mself\u001b[39m\u001b[38;5;241m.\u001b[39mexperimental_get_tracing_count()\n\u001b[0;32m    918\u001b[0m without_tracing \u001b[38;5;241m=\u001b[39m (tracing_count \u001b[38;5;241m==\u001b[39m new_tracing_count)\n",
      "File \u001b[1;32m~\\anaconda3\\envs\\py39tf2\\lib\\site-packages\\tensorflow\\python\\eager\\def_function.py:947\u001b[0m, in \u001b[0;36mFunction._call\u001b[1;34m(self, *args, **kwds)\u001b[0m\n\u001b[0;32m    944\u001b[0m   \u001b[38;5;28mself\u001b[39m\u001b[38;5;241m.\u001b[39m_lock\u001b[38;5;241m.\u001b[39mrelease()\n\u001b[0;32m    945\u001b[0m   \u001b[38;5;66;03m# In this case we have created variables on the first call, so we run the\u001b[39;00m\n\u001b[0;32m    946\u001b[0m   \u001b[38;5;66;03m# defunned version which is guaranteed to never create variables.\u001b[39;00m\n\u001b[1;32m--> 947\u001b[0m   \u001b[38;5;28;01mreturn\u001b[39;00m \u001b[38;5;28mself\u001b[39m\u001b[38;5;241m.\u001b[39m_stateless_fn(\u001b[38;5;241m*\u001b[39margs, \u001b[38;5;241m*\u001b[39m\u001b[38;5;241m*\u001b[39mkwds)  \u001b[38;5;66;03m# pylint: disable=not-callable\u001b[39;00m\n\u001b[0;32m    948\u001b[0m \u001b[38;5;28;01melif\u001b[39;00m \u001b[38;5;28mself\u001b[39m\u001b[38;5;241m.\u001b[39m_stateful_fn \u001b[38;5;129;01mis\u001b[39;00m \u001b[38;5;129;01mnot\u001b[39;00m \u001b[38;5;28;01mNone\u001b[39;00m:\n\u001b[0;32m    949\u001b[0m   \u001b[38;5;66;03m# Release the lock early so that multiple threads can perform the call\u001b[39;00m\n\u001b[0;32m    950\u001b[0m   \u001b[38;5;66;03m# in parallel.\u001b[39;00m\n\u001b[0;32m    951\u001b[0m   \u001b[38;5;28mself\u001b[39m\u001b[38;5;241m.\u001b[39m_lock\u001b[38;5;241m.\u001b[39mrelease()\n",
      "File \u001b[1;32m~\\anaconda3\\envs\\py39tf2\\lib\\site-packages\\tensorflow\\python\\eager\\function.py:2956\u001b[0m, in \u001b[0;36mFunction.__call__\u001b[1;34m(self, *args, **kwargs)\u001b[0m\n\u001b[0;32m   2953\u001b[0m \u001b[38;5;28;01mwith\u001b[39;00m \u001b[38;5;28mself\u001b[39m\u001b[38;5;241m.\u001b[39m_lock:\n\u001b[0;32m   2954\u001b[0m   (graph_function,\n\u001b[0;32m   2955\u001b[0m    filtered_flat_args) \u001b[38;5;241m=\u001b[39m \u001b[38;5;28mself\u001b[39m\u001b[38;5;241m.\u001b[39m_maybe_define_function(args, kwargs)\n\u001b[1;32m-> 2956\u001b[0m \u001b[38;5;28;01mreturn\u001b[39;00m \u001b[43mgraph_function\u001b[49m\u001b[38;5;241;43m.\u001b[39;49m\u001b[43m_call_flat\u001b[49m\u001b[43m(\u001b[49m\n\u001b[0;32m   2957\u001b[0m \u001b[43m    \u001b[49m\u001b[43mfiltered_flat_args\u001b[49m\u001b[43m,\u001b[49m\u001b[43m \u001b[49m\u001b[43mcaptured_inputs\u001b[49m\u001b[38;5;241;43m=\u001b[39;49m\u001b[43mgraph_function\u001b[49m\u001b[38;5;241;43m.\u001b[39;49m\u001b[43mcaptured_inputs\u001b[49m\u001b[43m)\u001b[49m\n",
      "File \u001b[1;32m~\\anaconda3\\envs\\py39tf2\\lib\\site-packages\\tensorflow\\python\\eager\\function.py:1853\u001b[0m, in \u001b[0;36mConcreteFunction._call_flat\u001b[1;34m(self, args, captured_inputs, cancellation_manager)\u001b[0m\n\u001b[0;32m   1849\u001b[0m possible_gradient_type \u001b[38;5;241m=\u001b[39m gradients_util\u001b[38;5;241m.\u001b[39mPossibleTapeGradientTypes(args)\n\u001b[0;32m   1850\u001b[0m \u001b[38;5;28;01mif\u001b[39;00m (possible_gradient_type \u001b[38;5;241m==\u001b[39m gradients_util\u001b[38;5;241m.\u001b[39mPOSSIBLE_GRADIENT_TYPES_NONE\n\u001b[0;32m   1851\u001b[0m     \u001b[38;5;129;01mand\u001b[39;00m executing_eagerly):\n\u001b[0;32m   1852\u001b[0m   \u001b[38;5;66;03m# No tape is watching; skip to running the function.\u001b[39;00m\n\u001b[1;32m-> 1853\u001b[0m   \u001b[38;5;28;01mreturn\u001b[39;00m \u001b[38;5;28mself\u001b[39m\u001b[38;5;241m.\u001b[39m_build_call_outputs(\u001b[38;5;28;43mself\u001b[39;49m\u001b[38;5;241;43m.\u001b[39;49m\u001b[43m_inference_function\u001b[49m\u001b[38;5;241;43m.\u001b[39;49m\u001b[43mcall\u001b[49m\u001b[43m(\u001b[49m\n\u001b[0;32m   1854\u001b[0m \u001b[43m      \u001b[49m\u001b[43mctx\u001b[49m\u001b[43m,\u001b[49m\u001b[43m \u001b[49m\u001b[43margs\u001b[49m\u001b[43m,\u001b[49m\u001b[43m \u001b[49m\u001b[43mcancellation_manager\u001b[49m\u001b[38;5;241;43m=\u001b[39;49m\u001b[43mcancellation_manager\u001b[49m\u001b[43m)\u001b[49m)\n\u001b[0;32m   1855\u001b[0m forward_backward \u001b[38;5;241m=\u001b[39m \u001b[38;5;28mself\u001b[39m\u001b[38;5;241m.\u001b[39m_select_forward_and_backward_functions(\n\u001b[0;32m   1856\u001b[0m     args,\n\u001b[0;32m   1857\u001b[0m     possible_gradient_type,\n\u001b[0;32m   1858\u001b[0m     executing_eagerly)\n\u001b[0;32m   1859\u001b[0m forward_function, args_with_tangents \u001b[38;5;241m=\u001b[39m forward_backward\u001b[38;5;241m.\u001b[39mforward()\n",
      "File \u001b[1;32m~\\anaconda3\\envs\\py39tf2\\lib\\site-packages\\tensorflow\\python\\eager\\function.py:499\u001b[0m, in \u001b[0;36m_EagerDefinedFunction.call\u001b[1;34m(self, ctx, args, cancellation_manager)\u001b[0m\n\u001b[0;32m    497\u001b[0m \u001b[38;5;28;01mwith\u001b[39;00m _InterpolateFunctionError(\u001b[38;5;28mself\u001b[39m):\n\u001b[0;32m    498\u001b[0m   \u001b[38;5;28;01mif\u001b[39;00m cancellation_manager \u001b[38;5;129;01mis\u001b[39;00m \u001b[38;5;28;01mNone\u001b[39;00m:\n\u001b[1;32m--> 499\u001b[0m     outputs \u001b[38;5;241m=\u001b[39m \u001b[43mexecute\u001b[49m\u001b[38;5;241;43m.\u001b[39;49m\u001b[43mexecute\u001b[49m\u001b[43m(\u001b[49m\n\u001b[0;32m    500\u001b[0m \u001b[43m        \u001b[49m\u001b[38;5;28;43mstr\u001b[39;49m\u001b[43m(\u001b[49m\u001b[38;5;28;43mself\u001b[39;49m\u001b[38;5;241;43m.\u001b[39;49m\u001b[43msignature\u001b[49m\u001b[38;5;241;43m.\u001b[39;49m\u001b[43mname\u001b[49m\u001b[43m)\u001b[49m\u001b[43m,\u001b[49m\n\u001b[0;32m    501\u001b[0m \u001b[43m        \u001b[49m\u001b[43mnum_outputs\u001b[49m\u001b[38;5;241;43m=\u001b[39;49m\u001b[38;5;28;43mself\u001b[39;49m\u001b[38;5;241;43m.\u001b[39;49m\u001b[43m_num_outputs\u001b[49m\u001b[43m,\u001b[49m\n\u001b[0;32m    502\u001b[0m \u001b[43m        \u001b[49m\u001b[43minputs\u001b[49m\u001b[38;5;241;43m=\u001b[39;49m\u001b[43margs\u001b[49m\u001b[43m,\u001b[49m\n\u001b[0;32m    503\u001b[0m \u001b[43m        \u001b[49m\u001b[43mattrs\u001b[49m\u001b[38;5;241;43m=\u001b[39;49m\u001b[43mattrs\u001b[49m\u001b[43m,\u001b[49m\n\u001b[0;32m    504\u001b[0m \u001b[43m        \u001b[49m\u001b[43mctx\u001b[49m\u001b[38;5;241;43m=\u001b[39;49m\u001b[43mctx\u001b[49m\u001b[43m)\u001b[49m\n\u001b[0;32m    505\u001b[0m   \u001b[38;5;28;01melse\u001b[39;00m:\n\u001b[0;32m    506\u001b[0m     outputs \u001b[38;5;241m=\u001b[39m execute\u001b[38;5;241m.\u001b[39mexecute_with_cancellation(\n\u001b[0;32m    507\u001b[0m         \u001b[38;5;28mstr\u001b[39m(\u001b[38;5;28mself\u001b[39m\u001b[38;5;241m.\u001b[39msignature\u001b[38;5;241m.\u001b[39mname),\n\u001b[0;32m    508\u001b[0m         num_outputs\u001b[38;5;241m=\u001b[39m\u001b[38;5;28mself\u001b[39m\u001b[38;5;241m.\u001b[39m_num_outputs,\n\u001b[1;32m   (...)\u001b[0m\n\u001b[0;32m    511\u001b[0m         ctx\u001b[38;5;241m=\u001b[39mctx,\n\u001b[0;32m    512\u001b[0m         cancellation_manager\u001b[38;5;241m=\u001b[39mcancellation_manager)\n",
      "File \u001b[1;32m~\\anaconda3\\envs\\py39tf2\\lib\\site-packages\\tensorflow\\python\\eager\\execute.py:54\u001b[0m, in \u001b[0;36mquick_execute\u001b[1;34m(op_name, num_outputs, inputs, attrs, ctx, name)\u001b[0m\n\u001b[0;32m     52\u001b[0m \u001b[38;5;28;01mtry\u001b[39;00m:\n\u001b[0;32m     53\u001b[0m   ctx\u001b[38;5;241m.\u001b[39mensure_initialized()\n\u001b[1;32m---> 54\u001b[0m   tensors \u001b[38;5;241m=\u001b[39m \u001b[43mpywrap_tfe\u001b[49m\u001b[38;5;241;43m.\u001b[39;49m\u001b[43mTFE_Py_Execute\u001b[49m\u001b[43m(\u001b[49m\u001b[43mctx\u001b[49m\u001b[38;5;241;43m.\u001b[39;49m\u001b[43m_handle\u001b[49m\u001b[43m,\u001b[49m\u001b[43m \u001b[49m\u001b[43mdevice_name\u001b[49m\u001b[43m,\u001b[49m\u001b[43m \u001b[49m\u001b[43mop_name\u001b[49m\u001b[43m,\u001b[49m\n\u001b[0;32m     55\u001b[0m \u001b[43m                                      \u001b[49m\u001b[43minputs\u001b[49m\u001b[43m,\u001b[49m\u001b[43m \u001b[49m\u001b[43mattrs\u001b[49m\u001b[43m,\u001b[49m\u001b[43m \u001b[49m\u001b[43mnum_outputs\u001b[49m\u001b[43m)\u001b[49m\n\u001b[0;32m     56\u001b[0m \u001b[38;5;28;01mexcept\u001b[39;00m core\u001b[38;5;241m.\u001b[39m_NotOkStatusException \u001b[38;5;28;01mas\u001b[39;00m e:\n\u001b[0;32m     57\u001b[0m   \u001b[38;5;28;01mif\u001b[39;00m name \u001b[38;5;129;01mis\u001b[39;00m \u001b[38;5;129;01mnot\u001b[39;00m \u001b[38;5;28;01mNone\u001b[39;00m:\n",
      "\u001b[1;31mKeyboardInterrupt\u001b[0m: "
     ]
    }
   ],
   "source": [
    "model.fit(X_train, y_train, epochs=5)"
   ]
  },
  {
   "cell_type": "code",
   "execution_count": null,
   "id": "5375b9b1",
   "metadata": {
    "ExecuteTime": {
     "end_time": "2022-05-12T06:49:58.566490Z",
     "start_time": "2022-05-12T06:49:58.566490Z"
    }
   },
   "outputs": [],
   "source": [
    "model.save('model4.h5')"
   ]
  },
  {
   "cell_type": "code",
   "execution_count": null,
   "id": "0154696a",
   "metadata": {},
   "outputs": [],
   "source": []
  },
  {
   "cell_type": "code",
   "execution_count": null,
   "id": "8e7d38d9",
   "metadata": {},
   "outputs": [],
   "source": []
  },
  {
   "cell_type": "markdown",
   "id": "c0b55865",
   "metadata": {},
   "source": [
    "# 아래는 숫자 분류 exe 실행"
   ]
  },
  {
   "cell_type": "code",
   "execution_count": 22,
   "id": "09d09cc4",
   "metadata": {
    "ExecuteTime": {
     "end_time": "2022-05-12T05:43:22.665993Z",
     "start_time": "2022-05-12T05:41:13.870791Z"
    }
   },
   "outputs": [
    {
     "ename": "SystemExit",
     "evalue": "0",
     "output_type": "error",
     "traceback": [
      "An exception has occurred, use %tb to see the full traceback.\n",
      "\u001b[1;31mSystemExit\u001b[0m\u001b[1;31m:\u001b[0m 0\n"
     ]
    },
    {
     "name": "stderr",
     "output_type": "stream",
     "text": [
      "C:\\Users\\isl12\\anaconda3\\envs\\py39tf2\\lib\\site-packages\\IPython\\core\\interactiveshell.py:3405: UserWarning: To exit: use 'exit', 'quit', or Ctrl-D.\n",
      "  warn(\"To exit: use 'exit', 'quit', or Ctrl-D.\", stacklevel=1)\n"
     ]
    }
   ],
   "source": [
    "import sys\n",
    "from PyQt5.QtWidgets import *\n",
    "from PyQt5.QtGui import *\n",
    "from PyQt5.QtCore import *\n",
    "import numpy as np\n",
    "import tensorflow as tf\n",
    "class MyApp(QMainWindow):\n",
    "    def __init__(self):\n",
    "        super().__init__()\n",
    "        self.image = QImage(QSize(400, 400), QImage.Format_RGB32)\n",
    "        self.image.fill(Qt.white)\n",
    "        self.drawing = False\n",
    "        self.brush_size = 30\n",
    "        self.brush_color = Qt.black\n",
    "        self.last_point = QPoint()\n",
    "        self.loaded_model = None\n",
    "        self.initUI()\n",
    "    def initUI(self):\n",
    "        menubar = self.menuBar()\n",
    "        menubar.setNativeMenuBar(False)\n",
    "        filemenu = menubar.addMenu('File')\n",
    "        load_model_action = QAction('Load model', self)\n",
    "        load_model_action.setShortcut('Ctrl+L')\n",
    "        load_model_action.triggered.connect(self.load_model)\n",
    "        save_action = QAction('Save', self)\n",
    "        save_action.setShortcut('Ctrl+S')\n",
    "        save_action.triggered.connect(self.save)\n",
    "        clear_action = QAction('Clear', self)\n",
    "        clear_action.setShortcut('Ctrl+C')\n",
    "        clear_action.triggered.connect(self.clear)\n",
    "        filemenu.addAction(load_model_action)\n",
    "        filemenu.addAction(save_action)\n",
    "        filemenu.addAction(clear_action)\n",
    "        self.statusbar = self.statusBar()\n",
    "        self.setWindowTitle('MNIST Classifier')\n",
    "        self.setGeometry(300, 300, 400, 400)\n",
    "        self.show()\n",
    "    def paintEvent(self, e):\n",
    "        canvas = QPainter(self)\n",
    "        canvas.drawImage(self.rect(), self.image, self.image.rect())\n",
    "    def mousePressEvent(self, e):\n",
    "        if e.button() == Qt.LeftButton:\n",
    "            self.drawing = True\n",
    "            self.last_point = e.pos()\n",
    "    def mouseMoveEvent(self, e):\n",
    "        if (e.buttons() & Qt.LeftButton) & self.drawing:\n",
    "            painter = QPainter(self.image)\n",
    "            painter.setPen(QPen(self.brush_color, self.brush_size, Qt.SolidLine, Qt.RoundCap))\n",
    "            painter.drawLine(self.last_point, e.pos())\n",
    "            self.last_point = e.pos()\n",
    "            self.update()\n",
    "    def mouseReleaseEvent(self, e):\n",
    "        if e.button() == Qt.LeftButton:\n",
    "            self.drawing = False\n",
    "            arr = np.zeros((28, 28))\n",
    "            for i in range(28):\n",
    "                for j in range(28):\n",
    "                    arr[j, i] = 1 - self.image.scaled(28, 28).pixelColor(i, j).getRgb()[0] / 255.0\n",
    "            arr = arr.reshape(-1, 28, 28)\n",
    "            if self.loaded_model:\n",
    "                pred = self.loaded_model.predict(arr)[0]\n",
    "                pred_num = str(np.argmax(pred))\n",
    "                self.statusbar.showMessage('숫자 ' + pred_num + '입니다.')\n",
    "    def load_model(self):\n",
    "        fname, _ = QFileDialog.getOpenFileName(self, 'Load Model', '')\n",
    "        if fname:\n",
    "            self.loaded_model = tf.keras.models.load_model(fname)\n",
    "            self.statusbar.showMessage('Model loaded.')\n",
    "    def save(self):\n",
    "        fpath, _ = QFileDialog.getSaveFileName(self, 'Save Image', '', \"PNG(*.png);;JPEG(*.jpg *.jpeg);;All Files(*.*) \")\n",
    "        if fpath:\n",
    "            self.image.scaled(28, 28).save(fpath)\n",
    "    def clear(self):\n",
    "        self.image.fill(Qt.white)\n",
    "        self.update()\n",
    "        self.statusbar.clearMessage()\n",
    "        \n",
    "\n",
    "if __name__ == '__main__':\n",
    "    app = QApplication(sys.argv)\n",
    "    ex = MyApp()\n",
    "    sys.exit(app.exec_())"
   ]
  },
  {
   "cell_type": "code",
   "execution_count": null,
   "id": "9dd43488",
   "metadata": {},
   "outputs": [],
   "source": []
  },
  {
   "cell_type": "code",
   "execution_count": null,
   "id": "43ccfea3",
   "metadata": {},
   "outputs": [],
   "source": []
  },
  {
   "cell_type": "code",
   "execution_count": null,
   "id": "5a761344",
   "metadata": {},
   "outputs": [],
   "source": []
  },
  {
   "cell_type": "markdown",
   "id": "24c99c16",
   "metadata": {},
   "source": [
    "# 3시"
   ]
  },
  {
   "cell_type": "code",
   "execution_count": 11,
   "id": "7dae8c33",
   "metadata": {
    "ExecuteTime": {
     "end_time": "2022-05-12T06:50:05.537615Z",
     "start_time": "2022-05-12T06:50:05.425542Z"
    }
   },
   "outputs": [],
   "source": [
    "import pandas as pd\n",
    "from sklearn.model_selection import train_test_split"
   ]
  },
  {
   "cell_type": "code",
   "execution_count": 12,
   "id": "30f3549c",
   "metadata": {
    "ExecuteTime": {
     "end_time": "2022-05-12T06:50:10.187803Z",
     "start_time": "2022-05-12T06:50:05.848826Z"
    }
   },
   "outputs": [],
   "source": [
    "# Raw Data Loading\n",
    "df = pd.read_csv('./mnist_train.csv')"
   ]
  },
  {
   "cell_type": "code",
   "execution_count": 13,
   "id": "9a0908ff",
   "metadata": {
    "ExecuteTime": {
     "end_time": "2022-05-12T06:50:10.233758Z",
     "start_time": "2022-05-12T06:50:10.187803Z"
    }
   },
   "outputs": [
    {
     "data": {
      "text/html": [
       "<div>\n",
       "<style scoped>\n",
       "    .dataframe tbody tr th:only-of-type {\n",
       "        vertical-align: middle;\n",
       "    }\n",
       "\n",
       "    .dataframe tbody tr th {\n",
       "        vertical-align: top;\n",
       "    }\n",
       "\n",
       "    .dataframe thead th {\n",
       "        text-align: right;\n",
       "    }\n",
       "</style>\n",
       "<table border=\"1\" class=\"dataframe\">\n",
       "  <thead>\n",
       "    <tr style=\"text-align: right;\">\n",
       "      <th></th>\n",
       "      <th>label</th>\n",
       "      <th>1x1</th>\n",
       "      <th>1x2</th>\n",
       "      <th>1x3</th>\n",
       "      <th>1x4</th>\n",
       "      <th>1x5</th>\n",
       "      <th>1x6</th>\n",
       "      <th>1x7</th>\n",
       "      <th>1x8</th>\n",
       "      <th>1x9</th>\n",
       "      <th>...</th>\n",
       "      <th>28x19</th>\n",
       "      <th>28x20</th>\n",
       "      <th>28x21</th>\n",
       "      <th>28x22</th>\n",
       "      <th>28x23</th>\n",
       "      <th>28x24</th>\n",
       "      <th>28x25</th>\n",
       "      <th>28x26</th>\n",
       "      <th>28x27</th>\n",
       "      <th>28x28</th>\n",
       "    </tr>\n",
       "  </thead>\n",
       "  <tbody>\n",
       "    <tr>\n",
       "      <th>0</th>\n",
       "      <td>5</td>\n",
       "      <td>0</td>\n",
       "      <td>0</td>\n",
       "      <td>0</td>\n",
       "      <td>0</td>\n",
       "      <td>0</td>\n",
       "      <td>0</td>\n",
       "      <td>0</td>\n",
       "      <td>0</td>\n",
       "      <td>0</td>\n",
       "      <td>...</td>\n",
       "      <td>0</td>\n",
       "      <td>0</td>\n",
       "      <td>0</td>\n",
       "      <td>0</td>\n",
       "      <td>0</td>\n",
       "      <td>0</td>\n",
       "      <td>0</td>\n",
       "      <td>0</td>\n",
       "      <td>0</td>\n",
       "      <td>0</td>\n",
       "    </tr>\n",
       "    <tr>\n",
       "      <th>1</th>\n",
       "      <td>0</td>\n",
       "      <td>0</td>\n",
       "      <td>0</td>\n",
       "      <td>0</td>\n",
       "      <td>0</td>\n",
       "      <td>0</td>\n",
       "      <td>0</td>\n",
       "      <td>0</td>\n",
       "      <td>0</td>\n",
       "      <td>0</td>\n",
       "      <td>...</td>\n",
       "      <td>0</td>\n",
       "      <td>0</td>\n",
       "      <td>0</td>\n",
       "      <td>0</td>\n",
       "      <td>0</td>\n",
       "      <td>0</td>\n",
       "      <td>0</td>\n",
       "      <td>0</td>\n",
       "      <td>0</td>\n",
       "      <td>0</td>\n",
       "    </tr>\n",
       "    <tr>\n",
       "      <th>2</th>\n",
       "      <td>4</td>\n",
       "      <td>0</td>\n",
       "      <td>0</td>\n",
       "      <td>0</td>\n",
       "      <td>0</td>\n",
       "      <td>0</td>\n",
       "      <td>0</td>\n",
       "      <td>0</td>\n",
       "      <td>0</td>\n",
       "      <td>0</td>\n",
       "      <td>...</td>\n",
       "      <td>0</td>\n",
       "      <td>0</td>\n",
       "      <td>0</td>\n",
       "      <td>0</td>\n",
       "      <td>0</td>\n",
       "      <td>0</td>\n",
       "      <td>0</td>\n",
       "      <td>0</td>\n",
       "      <td>0</td>\n",
       "      <td>0</td>\n",
       "    </tr>\n",
       "    <tr>\n",
       "      <th>3</th>\n",
       "      <td>1</td>\n",
       "      <td>0</td>\n",
       "      <td>0</td>\n",
       "      <td>0</td>\n",
       "      <td>0</td>\n",
       "      <td>0</td>\n",
       "      <td>0</td>\n",
       "      <td>0</td>\n",
       "      <td>0</td>\n",
       "      <td>0</td>\n",
       "      <td>...</td>\n",
       "      <td>0</td>\n",
       "      <td>0</td>\n",
       "      <td>0</td>\n",
       "      <td>0</td>\n",
       "      <td>0</td>\n",
       "      <td>0</td>\n",
       "      <td>0</td>\n",
       "      <td>0</td>\n",
       "      <td>0</td>\n",
       "      <td>0</td>\n",
       "    </tr>\n",
       "    <tr>\n",
       "      <th>4</th>\n",
       "      <td>9</td>\n",
       "      <td>0</td>\n",
       "      <td>0</td>\n",
       "      <td>0</td>\n",
       "      <td>0</td>\n",
       "      <td>0</td>\n",
       "      <td>0</td>\n",
       "      <td>0</td>\n",
       "      <td>0</td>\n",
       "      <td>0</td>\n",
       "      <td>...</td>\n",
       "      <td>0</td>\n",
       "      <td>0</td>\n",
       "      <td>0</td>\n",
       "      <td>0</td>\n",
       "      <td>0</td>\n",
       "      <td>0</td>\n",
       "      <td>0</td>\n",
       "      <td>0</td>\n",
       "      <td>0</td>\n",
       "      <td>0</td>\n",
       "    </tr>\n",
       "  </tbody>\n",
       "</table>\n",
       "<p>5 rows × 785 columns</p>\n",
       "</div>"
      ],
      "text/plain": [
       "   label  1x1  1x2  1x3  1x4  1x5  1x6  1x7  1x8  1x9  ...  28x19  28x20  \\\n",
       "0      5    0    0    0    0    0    0    0    0    0  ...      0      0   \n",
       "1      0    0    0    0    0    0    0    0    0    0  ...      0      0   \n",
       "2      4    0    0    0    0    0    0    0    0    0  ...      0      0   \n",
       "3      1    0    0    0    0    0    0    0    0    0  ...      0      0   \n",
       "4      9    0    0    0    0    0    0    0    0    0  ...      0      0   \n",
       "\n",
       "   28x21  28x22  28x23  28x24  28x25  28x26  28x27  28x28  \n",
       "0      0      0      0      0      0      0      0      0  \n",
       "1      0      0      0      0      0      0      0      0  \n",
       "2      0      0      0      0      0      0      0      0  \n",
       "3      0      0      0      0      0      0      0      0  \n",
       "4      0      0      0      0      0      0      0      0  \n",
       "\n",
       "[5 rows x 785 columns]"
      ]
     },
     "execution_count": 13,
     "metadata": {},
     "output_type": "execute_result"
    }
   ],
   "source": [
    "df.head()"
   ]
  },
  {
   "cell_type": "code",
   "execution_count": 14,
   "id": "d343905a",
   "metadata": {
    "ExecuteTime": {
     "end_time": "2022-05-12T06:50:13.158514Z",
     "start_time": "2022-05-12T06:50:10.238754Z"
    },
    "scrolled": false
   },
   "outputs": [
    {
     "data": {
      "text/html": [
       "<div>\n",
       "<style scoped>\n",
       "    .dataframe tbody tr th:only-of-type {\n",
       "        vertical-align: middle;\n",
       "    }\n",
       "\n",
       "    .dataframe tbody tr th {\n",
       "        vertical-align: top;\n",
       "    }\n",
       "\n",
       "    .dataframe thead th {\n",
       "        text-align: right;\n",
       "    }\n",
       "</style>\n",
       "<table border=\"1\" class=\"dataframe\">\n",
       "  <thead>\n",
       "    <tr style=\"text-align: right;\">\n",
       "      <th></th>\n",
       "      <th>label</th>\n",
       "      <th>1x1</th>\n",
       "      <th>1x2</th>\n",
       "      <th>1x3</th>\n",
       "      <th>1x4</th>\n",
       "      <th>1x5</th>\n",
       "      <th>1x6</th>\n",
       "      <th>1x7</th>\n",
       "      <th>1x8</th>\n",
       "      <th>1x9</th>\n",
       "      <th>...</th>\n",
       "      <th>28x19</th>\n",
       "      <th>28x20</th>\n",
       "      <th>28x21</th>\n",
       "      <th>28x22</th>\n",
       "      <th>28x23</th>\n",
       "      <th>28x24</th>\n",
       "      <th>28x25</th>\n",
       "      <th>28x26</th>\n",
       "      <th>28x27</th>\n",
       "      <th>28x28</th>\n",
       "    </tr>\n",
       "  </thead>\n",
       "  <tbody>\n",
       "    <tr>\n",
       "      <th>count</th>\n",
       "      <td>60000.000000</td>\n",
       "      <td>60000.0</td>\n",
       "      <td>60000.0</td>\n",
       "      <td>60000.0</td>\n",
       "      <td>60000.0</td>\n",
       "      <td>60000.0</td>\n",
       "      <td>60000.0</td>\n",
       "      <td>60000.0</td>\n",
       "      <td>60000.0</td>\n",
       "      <td>60000.0</td>\n",
       "      <td>...</td>\n",
       "      <td>60000.000000</td>\n",
       "      <td>60000.000000</td>\n",
       "      <td>60000.000000</td>\n",
       "      <td>60000.000000</td>\n",
       "      <td>60000.000000</td>\n",
       "      <td>60000.0000</td>\n",
       "      <td>60000.0</td>\n",
       "      <td>60000.0</td>\n",
       "      <td>60000.0</td>\n",
       "      <td>60000.0</td>\n",
       "    </tr>\n",
       "    <tr>\n",
       "      <th>mean</th>\n",
       "      <td>4.453933</td>\n",
       "      <td>0.0</td>\n",
       "      <td>0.0</td>\n",
       "      <td>0.0</td>\n",
       "      <td>0.0</td>\n",
       "      <td>0.0</td>\n",
       "      <td>0.0</td>\n",
       "      <td>0.0</td>\n",
       "      <td>0.0</td>\n",
       "      <td>0.0</td>\n",
       "      <td>...</td>\n",
       "      <td>0.200433</td>\n",
       "      <td>0.088867</td>\n",
       "      <td>0.045633</td>\n",
       "      <td>0.019283</td>\n",
       "      <td>0.015117</td>\n",
       "      <td>0.0020</td>\n",
       "      <td>0.0</td>\n",
       "      <td>0.0</td>\n",
       "      <td>0.0</td>\n",
       "      <td>0.0</td>\n",
       "    </tr>\n",
       "    <tr>\n",
       "      <th>std</th>\n",
       "      <td>2.889270</td>\n",
       "      <td>0.0</td>\n",
       "      <td>0.0</td>\n",
       "      <td>0.0</td>\n",
       "      <td>0.0</td>\n",
       "      <td>0.0</td>\n",
       "      <td>0.0</td>\n",
       "      <td>0.0</td>\n",
       "      <td>0.0</td>\n",
       "      <td>0.0</td>\n",
       "      <td>...</td>\n",
       "      <td>6.042472</td>\n",
       "      <td>3.956189</td>\n",
       "      <td>2.839845</td>\n",
       "      <td>1.686770</td>\n",
       "      <td>1.678283</td>\n",
       "      <td>0.3466</td>\n",
       "      <td>0.0</td>\n",
       "      <td>0.0</td>\n",
       "      <td>0.0</td>\n",
       "      <td>0.0</td>\n",
       "    </tr>\n",
       "    <tr>\n",
       "      <th>min</th>\n",
       "      <td>0.000000</td>\n",
       "      <td>0.0</td>\n",
       "      <td>0.0</td>\n",
       "      <td>0.0</td>\n",
       "      <td>0.0</td>\n",
       "      <td>0.0</td>\n",
       "      <td>0.0</td>\n",
       "      <td>0.0</td>\n",
       "      <td>0.0</td>\n",
       "      <td>0.0</td>\n",
       "      <td>...</td>\n",
       "      <td>0.000000</td>\n",
       "      <td>0.000000</td>\n",
       "      <td>0.000000</td>\n",
       "      <td>0.000000</td>\n",
       "      <td>0.000000</td>\n",
       "      <td>0.0000</td>\n",
       "      <td>0.0</td>\n",
       "      <td>0.0</td>\n",
       "      <td>0.0</td>\n",
       "      <td>0.0</td>\n",
       "    </tr>\n",
       "    <tr>\n",
       "      <th>25%</th>\n",
       "      <td>2.000000</td>\n",
       "      <td>0.0</td>\n",
       "      <td>0.0</td>\n",
       "      <td>0.0</td>\n",
       "      <td>0.0</td>\n",
       "      <td>0.0</td>\n",
       "      <td>0.0</td>\n",
       "      <td>0.0</td>\n",
       "      <td>0.0</td>\n",
       "      <td>0.0</td>\n",
       "      <td>...</td>\n",
       "      <td>0.000000</td>\n",
       "      <td>0.000000</td>\n",
       "      <td>0.000000</td>\n",
       "      <td>0.000000</td>\n",
       "      <td>0.000000</td>\n",
       "      <td>0.0000</td>\n",
       "      <td>0.0</td>\n",
       "      <td>0.0</td>\n",
       "      <td>0.0</td>\n",
       "      <td>0.0</td>\n",
       "    </tr>\n",
       "    <tr>\n",
       "      <th>50%</th>\n",
       "      <td>4.000000</td>\n",
       "      <td>0.0</td>\n",
       "      <td>0.0</td>\n",
       "      <td>0.0</td>\n",
       "      <td>0.0</td>\n",
       "      <td>0.0</td>\n",
       "      <td>0.0</td>\n",
       "      <td>0.0</td>\n",
       "      <td>0.0</td>\n",
       "      <td>0.0</td>\n",
       "      <td>...</td>\n",
       "      <td>0.000000</td>\n",
       "      <td>0.000000</td>\n",
       "      <td>0.000000</td>\n",
       "      <td>0.000000</td>\n",
       "      <td>0.000000</td>\n",
       "      <td>0.0000</td>\n",
       "      <td>0.0</td>\n",
       "      <td>0.0</td>\n",
       "      <td>0.0</td>\n",
       "      <td>0.0</td>\n",
       "    </tr>\n",
       "    <tr>\n",
       "      <th>75%</th>\n",
       "      <td>7.000000</td>\n",
       "      <td>0.0</td>\n",
       "      <td>0.0</td>\n",
       "      <td>0.0</td>\n",
       "      <td>0.0</td>\n",
       "      <td>0.0</td>\n",
       "      <td>0.0</td>\n",
       "      <td>0.0</td>\n",
       "      <td>0.0</td>\n",
       "      <td>0.0</td>\n",
       "      <td>...</td>\n",
       "      <td>0.000000</td>\n",
       "      <td>0.000000</td>\n",
       "      <td>0.000000</td>\n",
       "      <td>0.000000</td>\n",
       "      <td>0.000000</td>\n",
       "      <td>0.0000</td>\n",
       "      <td>0.0</td>\n",
       "      <td>0.0</td>\n",
       "      <td>0.0</td>\n",
       "      <td>0.0</td>\n",
       "    </tr>\n",
       "    <tr>\n",
       "      <th>max</th>\n",
       "      <td>9.000000</td>\n",
       "      <td>0.0</td>\n",
       "      <td>0.0</td>\n",
       "      <td>0.0</td>\n",
       "      <td>0.0</td>\n",
       "      <td>0.0</td>\n",
       "      <td>0.0</td>\n",
       "      <td>0.0</td>\n",
       "      <td>0.0</td>\n",
       "      <td>0.0</td>\n",
       "      <td>...</td>\n",
       "      <td>254.000000</td>\n",
       "      <td>254.000000</td>\n",
       "      <td>253.000000</td>\n",
       "      <td>253.000000</td>\n",
       "      <td>254.000000</td>\n",
       "      <td>62.0000</td>\n",
       "      <td>0.0</td>\n",
       "      <td>0.0</td>\n",
       "      <td>0.0</td>\n",
       "      <td>0.0</td>\n",
       "    </tr>\n",
       "  </tbody>\n",
       "</table>\n",
       "<p>8 rows × 785 columns</p>\n",
       "</div>"
      ],
      "text/plain": [
       "              label      1x1      1x2      1x3      1x4      1x5      1x6  \\\n",
       "count  60000.000000  60000.0  60000.0  60000.0  60000.0  60000.0  60000.0   \n",
       "mean       4.453933      0.0      0.0      0.0      0.0      0.0      0.0   \n",
       "std        2.889270      0.0      0.0      0.0      0.0      0.0      0.0   \n",
       "min        0.000000      0.0      0.0      0.0      0.0      0.0      0.0   \n",
       "25%        2.000000      0.0      0.0      0.0      0.0      0.0      0.0   \n",
       "50%        4.000000      0.0      0.0      0.0      0.0      0.0      0.0   \n",
       "75%        7.000000      0.0      0.0      0.0      0.0      0.0      0.0   \n",
       "max        9.000000      0.0      0.0      0.0      0.0      0.0      0.0   \n",
       "\n",
       "           1x7      1x8      1x9  ...         28x19         28x20  \\\n",
       "count  60000.0  60000.0  60000.0  ...  60000.000000  60000.000000   \n",
       "mean       0.0      0.0      0.0  ...      0.200433      0.088867   \n",
       "std        0.0      0.0      0.0  ...      6.042472      3.956189   \n",
       "min        0.0      0.0      0.0  ...      0.000000      0.000000   \n",
       "25%        0.0      0.0      0.0  ...      0.000000      0.000000   \n",
       "50%        0.0      0.0      0.0  ...      0.000000      0.000000   \n",
       "75%        0.0      0.0      0.0  ...      0.000000      0.000000   \n",
       "max        0.0      0.0      0.0  ...    254.000000    254.000000   \n",
       "\n",
       "              28x21         28x22         28x23       28x24    28x25    28x26  \\\n",
       "count  60000.000000  60000.000000  60000.000000  60000.0000  60000.0  60000.0   \n",
       "mean       0.045633      0.019283      0.015117      0.0020      0.0      0.0   \n",
       "std        2.839845      1.686770      1.678283      0.3466      0.0      0.0   \n",
       "min        0.000000      0.000000      0.000000      0.0000      0.0      0.0   \n",
       "25%        0.000000      0.000000      0.000000      0.0000      0.0      0.0   \n",
       "50%        0.000000      0.000000      0.000000      0.0000      0.0      0.0   \n",
       "75%        0.000000      0.000000      0.000000      0.0000      0.0      0.0   \n",
       "max      253.000000    253.000000    254.000000     62.0000      0.0      0.0   \n",
       "\n",
       "         28x27    28x28  \n",
       "count  60000.0  60000.0  \n",
       "mean       0.0      0.0  \n",
       "std        0.0      0.0  \n",
       "min        0.0      0.0  \n",
       "25%        0.0      0.0  \n",
       "50%        0.0      0.0  \n",
       "75%        0.0      0.0  \n",
       "max        0.0      0.0  \n",
       "\n",
       "[8 rows x 785 columns]"
      ]
     },
     "execution_count": 14,
     "metadata": {},
     "output_type": "execute_result"
    }
   ],
   "source": [
    "df.describe()"
   ]
  },
  {
   "cell_type": "code",
   "execution_count": 15,
   "id": "156cf0f2",
   "metadata": {
    "ExecuteTime": {
     "end_time": "2022-05-12T06:50:13.301551Z",
     "start_time": "2022-05-12T06:50:13.164510Z"
    }
   },
   "outputs": [],
   "source": [
    "X_data = df.drop('label', axis =1 )\n",
    "y_data = df['label']"
   ]
  },
  {
   "cell_type": "code",
   "execution_count": 16,
   "id": "60de3f14",
   "metadata": {
    "ExecuteTime": {
     "end_time": "2022-05-12T06:50:13.940328Z",
     "start_time": "2022-05-12T06:50:13.304511Z"
    }
   },
   "outputs": [],
   "source": [
    "sc = MinMaxScaler()\n",
    "sc.fit(X_data)\n",
    "X_norm_data = sc.transform(X_data)\n",
    "\n",
    "#sc.fit_transform(X_data)"
   ]
  },
  {
   "cell_type": "code",
   "execution_count": 17,
   "id": "e546f82c",
   "metadata": {
    "ExecuteTime": {
     "end_time": "2022-05-12T06:50:14.978915Z",
     "start_time": "2022-05-12T06:50:13.940328Z"
    }
   },
   "outputs": [],
   "source": [
    "X_train, X_test, y_train, y_test =  train_test_split(X_norm_data, y_data, test_size=0.2)"
   ]
  },
  {
   "cell_type": "code",
   "execution_count": 18,
   "id": "3c80a954",
   "metadata": {
    "ExecuteTime": {
     "end_time": "2022-05-12T06:50:15.043730Z",
     "start_time": "2022-05-12T06:50:14.981765Z"
    }
   },
   "outputs": [
    {
     "name": "stdout",
     "output_type": "stream",
     "text": [
      "Model: \"sequential_1\"\n",
      "_________________________________________________________________\n",
      " Layer (type)                Output Shape              Param #   \n",
      "=================================================================\n",
      " flatten_1 (Flatten)         (None, 784)               0         \n",
      "                                                                 \n",
      " dense_2 (Dense)             (None, 10)                7850      \n",
      "                                                                 \n",
      "=================================================================\n",
      "Total params: 7,850\n",
      "Trainable params: 7,850\n",
      "Non-trainable params: 0\n",
      "_________________________________________________________________\n"
     ]
    }
   ],
   "source": [
    "model = Sequential()\n",
    "\n",
    "model.add(Flatten(input_shape = (784,)))   # Input layer\n",
    "\n",
    "model.add(Dense(units = 10, activation='softmax'))\n",
    "\n",
    "model.summary()"
   ]
  },
  {
   "cell_type": "code",
   "execution_count": 25,
   "id": "c84ee2b5",
   "metadata": {
    "ExecuteTime": {
     "end_time": "2022-05-12T06:51:20.951554Z",
     "start_time": "2022-05-12T06:51:20.938586Z"
    }
   },
   "outputs": [],
   "source": [
    "from tensorflow.keras.optimizers import SGD\n",
    "\n",
    "model.compile(optimizer=SGD(learning_rate=0.001), loss='sparse_categorical_crossentropy', metrics=['accuracy'])"
   ]
  },
  {
   "cell_type": "code",
   "execution_count": 26,
   "id": "10bf8da1",
   "metadata": {
    "ExecuteTime": {
     "end_time": "2022-05-12T06:55:11.719272Z",
     "start_time": "2022-05-12T06:51:22.671674Z"
    }
   },
   "outputs": [
    {
     "name": "stdout",
     "output_type": "stream",
     "text": [
      "Epoch 1/100\n",
      "1200/1200 [==============================] - 3s 2ms/step - loss: 1.9710 - accuracy: 0.3801 - val_loss: 1.5649 - val_accuracy: 0.6639\n",
      "Epoch 2/100\n",
      "1200/1200 [==============================] - 2s 2ms/step - loss: 1.3348 - accuracy: 0.7352 - val_loss: 1.1609 - val_accuracy: 0.7753\n",
      "Epoch 3/100\n",
      "1200/1200 [==============================] - 3s 2ms/step - loss: 1.0443 - accuracy: 0.7969 - val_loss: 0.9591 - val_accuracy: 0.8074\n",
      "Epoch 4/100\n",
      "1200/1200 [==============================] - 2s 2ms/step - loss: 0.8881 - accuracy: 0.8202 - val_loss: 0.8409 - val_accuracy: 0.8224\n",
      "Epoch 5/100\n",
      "1200/1200 [==============================] - 2s 2ms/step - loss: 0.7913 - accuracy: 0.8336 - val_loss: 0.7634 - val_accuracy: 0.8330\n",
      "Epoch 6/100\n",
      "1200/1200 [==============================] - 2s 2ms/step - loss: 0.7252 - accuracy: 0.8423 - val_loss: 0.7078 - val_accuracy: 0.8396\n",
      "Epoch 7/100\n",
      "1200/1200 [==============================] - 2s 2ms/step - loss: 0.6769 - accuracy: 0.8489 - val_loss: 0.6663 - val_accuracy: 0.8447\n",
      "Epoch 8/100\n",
      "1200/1200 [==============================] - 2s 2ms/step - loss: 0.6399 - accuracy: 0.8537 - val_loss: 0.6337 - val_accuracy: 0.8494\n",
      "Epoch 9/100\n",
      "1200/1200 [==============================] - 2s 2ms/step - loss: 0.6104 - accuracy: 0.8581 - val_loss: 0.6072 - val_accuracy: 0.8548\n",
      "Epoch 10/100\n",
      "1200/1200 [==============================] - 2s 2ms/step - loss: 0.5864 - accuracy: 0.8618 - val_loss: 0.5855 - val_accuracy: 0.8579\n",
      "Epoch 11/100\n",
      "1200/1200 [==============================] - 2s 2ms/step - loss: 0.5662 - accuracy: 0.8649 - val_loss: 0.5671 - val_accuracy: 0.8595\n",
      "Epoch 12/100\n",
      "1200/1200 [==============================] - 2s 2ms/step - loss: 0.5491 - accuracy: 0.8668 - val_loss: 0.5512 - val_accuracy: 0.8615\n",
      "Epoch 13/100\n",
      "1200/1200 [==============================] - 2s 2ms/step - loss: 0.5343 - accuracy: 0.8693 - val_loss: 0.5375 - val_accuracy: 0.8631\n",
      "Epoch 14/100\n",
      "1200/1200 [==============================] - 2s 2ms/step - loss: 0.5214 - accuracy: 0.8711 - val_loss: 0.5255 - val_accuracy: 0.8648\n",
      "Epoch 15/100\n",
      "1200/1200 [==============================] - 2s 2ms/step - loss: 0.5100 - accuracy: 0.8732 - val_loss: 0.5148 - val_accuracy: 0.8664\n",
      "Epoch 16/100\n",
      "1200/1200 [==============================] - 2s 2ms/step - loss: 0.4998 - accuracy: 0.8747 - val_loss: 0.5050 - val_accuracy: 0.8686\n",
      "Epoch 17/100\n",
      "1200/1200 [==============================] - 2s 2ms/step - loss: 0.4907 - accuracy: 0.8767 - val_loss: 0.4965 - val_accuracy: 0.8704\n",
      "Epoch 18/100\n",
      "1200/1200 [==============================] - 2s 2ms/step - loss: 0.4824 - accuracy: 0.8781 - val_loss: 0.4886 - val_accuracy: 0.8715\n",
      "Epoch 19/100\n",
      "1200/1200 [==============================] - 2s 2ms/step - loss: 0.4748 - accuracy: 0.8792 - val_loss: 0.4815 - val_accuracy: 0.8719\n",
      "Epoch 20/100\n",
      "1200/1200 [==============================] - 2s 2ms/step - loss: 0.4680 - accuracy: 0.8804 - val_loss: 0.4750 - val_accuracy: 0.8729\n",
      "Epoch 21/100\n",
      "1200/1200 [==============================] - 2s 2ms/step - loss: 0.4616 - accuracy: 0.8815 - val_loss: 0.4691 - val_accuracy: 0.8741\n",
      "Epoch 22/100\n",
      "1200/1200 [==============================] - 2s 2ms/step - loss: 0.4558 - accuracy: 0.8830 - val_loss: 0.4633 - val_accuracy: 0.8760\n",
      "Epoch 23/100\n",
      "1200/1200 [==============================] - 2s 2ms/step - loss: 0.4503 - accuracy: 0.8834 - val_loss: 0.4583 - val_accuracy: 0.8768\n",
      "Epoch 24/100\n",
      "1200/1200 [==============================] - 2s 2ms/step - loss: 0.4453 - accuracy: 0.8846 - val_loss: 0.4533 - val_accuracy: 0.8778\n",
      "Epoch 25/100\n",
      "1200/1200 [==============================] - 2s 2ms/step - loss: 0.4406 - accuracy: 0.8854 - val_loss: 0.4489 - val_accuracy: 0.8784\n",
      "Epoch 26/100\n",
      "1200/1200 [==============================] - 2s 2ms/step - loss: 0.4361 - accuracy: 0.8862 - val_loss: 0.4445 - val_accuracy: 0.8801\n",
      "Epoch 27/100\n",
      "1200/1200 [==============================] - 2s 2ms/step - loss: 0.4320 - accuracy: 0.8871 - val_loss: 0.4406 - val_accuracy: 0.8811\n",
      "Epoch 28/100\n",
      "1200/1200 [==============================] - 2s 2ms/step - loss: 0.4281 - accuracy: 0.8878 - val_loss: 0.4369 - val_accuracy: 0.8818\n",
      "Epoch 29/100\n",
      "1200/1200 [==============================] - 2s 2ms/step - loss: 0.4244 - accuracy: 0.8887 - val_loss: 0.4333 - val_accuracy: 0.8826\n",
      "Epoch 30/100\n",
      "1200/1200 [==============================] - 2s 2ms/step - loss: 0.4209 - accuracy: 0.8891 - val_loss: 0.4300 - val_accuracy: 0.8832\n",
      "Epoch 31/100\n",
      "1200/1200 [==============================] - 2s 2ms/step - loss: 0.4176 - accuracy: 0.8899 - val_loss: 0.4269 - val_accuracy: 0.8834\n",
      "Epoch 32/100\n",
      "1200/1200 [==============================] - 2s 2ms/step - loss: 0.4144 - accuracy: 0.8902 - val_loss: 0.4239 - val_accuracy: 0.8842\n",
      "Epoch 33/100\n",
      "1200/1200 [==============================] - 2s 2ms/step - loss: 0.4115 - accuracy: 0.8909 - val_loss: 0.4208 - val_accuracy: 0.8844\n",
      "Epoch 34/100\n",
      "1200/1200 [==============================] - 2s 2ms/step - loss: 0.4086 - accuracy: 0.8917 - val_loss: 0.4183 - val_accuracy: 0.8848\n",
      "Epoch 35/100\n",
      "1200/1200 [==============================] - 2s 2ms/step - loss: 0.4059 - accuracy: 0.8921 - val_loss: 0.4157 - val_accuracy: 0.8857\n",
      "Epoch 36/100\n",
      "1200/1200 [==============================] - 2s 2ms/step - loss: 0.4033 - accuracy: 0.8927 - val_loss: 0.4133 - val_accuracy: 0.8864\n",
      "Epoch 37/100\n",
      "1200/1200 [==============================] - 2s 2ms/step - loss: 0.4008 - accuracy: 0.8932 - val_loss: 0.4108 - val_accuracy: 0.8868\n",
      "Epoch 38/100\n",
      "1200/1200 [==============================] - 3s 2ms/step - loss: 0.3985 - accuracy: 0.8935 - val_loss: 0.4085 - val_accuracy: 0.8874\n",
      "Epoch 39/100\n",
      "1200/1200 [==============================] - 2s 2ms/step - loss: 0.3962 - accuracy: 0.8939 - val_loss: 0.4063 - val_accuracy: 0.8882\n",
      "Epoch 40/100\n",
      "1200/1200 [==============================] - 2s 2ms/step - loss: 0.3940 - accuracy: 0.8943 - val_loss: 0.4043 - val_accuracy: 0.8882\n",
      "Epoch 41/100\n",
      "1200/1200 [==============================] - 2s 2ms/step - loss: 0.3919 - accuracy: 0.8949 - val_loss: 0.4023 - val_accuracy: 0.8891\n",
      "Epoch 42/100\n",
      "1200/1200 [==============================] - 2s 2ms/step - loss: 0.3899 - accuracy: 0.8954 - val_loss: 0.4003 - val_accuracy: 0.8892\n",
      "Epoch 43/100\n",
      "1200/1200 [==============================] - 2s 2ms/step - loss: 0.3879 - accuracy: 0.8955 - val_loss: 0.3985 - val_accuracy: 0.8897\n",
      "Epoch 44/100\n",
      "1200/1200 [==============================] - 2s 2ms/step - loss: 0.3860 - accuracy: 0.8960 - val_loss: 0.3967 - val_accuracy: 0.8901\n",
      "Epoch 45/100\n",
      "1200/1200 [==============================] - 3s 2ms/step - loss: 0.3842 - accuracy: 0.8967 - val_loss: 0.3949 - val_accuracy: 0.8902\n",
      "Epoch 46/100\n",
      "1200/1200 [==============================] - 2s 2ms/step - loss: 0.3824 - accuracy: 0.8969 - val_loss: 0.3931 - val_accuracy: 0.8905\n",
      "Epoch 47/100\n",
      "1200/1200 [==============================] - 2s 2ms/step - loss: 0.3807 - accuracy: 0.8971 - val_loss: 0.3916 - val_accuracy: 0.8909\n",
      "Epoch 48/100\n",
      "1200/1200 [==============================] - 2s 2ms/step - loss: 0.3791 - accuracy: 0.8975 - val_loss: 0.3900 - val_accuracy: 0.8913\n",
      "Epoch 49/100\n",
      "1200/1200 [==============================] - 2s 2ms/step - loss: 0.3775 - accuracy: 0.8978 - val_loss: 0.3885 - val_accuracy: 0.8920\n",
      "Epoch 50/100\n",
      "1200/1200 [==============================] - 2s 2ms/step - loss: 0.3760 - accuracy: 0.8981 - val_loss: 0.3871 - val_accuracy: 0.8921\n",
      "Epoch 51/100\n",
      "1200/1200 [==============================] - 2s 2ms/step - loss: 0.3745 - accuracy: 0.8983 - val_loss: 0.3857 - val_accuracy: 0.8928\n",
      "Epoch 52/100\n",
      "1200/1200 [==============================] - 3s 2ms/step - loss: 0.3730 - accuracy: 0.8987 - val_loss: 0.3843 - val_accuracy: 0.8933\n",
      "Epoch 53/100\n",
      "1200/1200 [==============================] - 2s 2ms/step - loss: 0.3716 - accuracy: 0.8989 - val_loss: 0.3829 - val_accuracy: 0.8931\n",
      "Epoch 54/100\n",
      "1200/1200 [==============================] - 2s 2ms/step - loss: 0.3702 - accuracy: 0.8993 - val_loss: 0.3818 - val_accuracy: 0.8942\n",
      "Epoch 55/100\n",
      "1200/1200 [==============================] - 2s 2ms/step - loss: 0.3689 - accuracy: 0.9000 - val_loss: 0.3804 - val_accuracy: 0.8941\n",
      "Epoch 56/100\n",
      "1200/1200 [==============================] - 2s 2ms/step - loss: 0.3676 - accuracy: 0.8999 - val_loss: 0.3791 - val_accuracy: 0.8935\n",
      "Epoch 57/100\n"
     ]
    },
    {
     "name": "stdout",
     "output_type": "stream",
     "text": [
      "1200/1200 [==============================] - 3s 2ms/step - loss: 0.3664 - accuracy: 0.9006 - val_loss: 0.3780 - val_accuracy: 0.8944\n",
      "Epoch 58/100\n",
      "1200/1200 [==============================] - 2s 2ms/step - loss: 0.3651 - accuracy: 0.9008 - val_loss: 0.3767 - val_accuracy: 0.8942\n",
      "Epoch 59/100\n",
      "1200/1200 [==============================] - 3s 2ms/step - loss: 0.3639 - accuracy: 0.9013 - val_loss: 0.3757 - val_accuracy: 0.8945\n",
      "Epoch 60/100\n",
      "1200/1200 [==============================] - 2s 2ms/step - loss: 0.3628 - accuracy: 0.9015 - val_loss: 0.3745 - val_accuracy: 0.8946\n",
      "Epoch 61/100\n",
      "1200/1200 [==============================] - 2s 2ms/step - loss: 0.3616 - accuracy: 0.9017 - val_loss: 0.3734 - val_accuracy: 0.8947\n",
      "Epoch 62/100\n",
      "1200/1200 [==============================] - 2s 2ms/step - loss: 0.3605 - accuracy: 0.9020 - val_loss: 0.3723 - val_accuracy: 0.8954\n",
      "Epoch 63/100\n",
      "1200/1200 [==============================] - 2s 2ms/step - loss: 0.3595 - accuracy: 0.9024 - val_loss: 0.3713 - val_accuracy: 0.8953\n",
      "Epoch 64/100\n",
      "1200/1200 [==============================] - 2s 2ms/step - loss: 0.3584 - accuracy: 0.9025 - val_loss: 0.3703 - val_accuracy: 0.8953\n",
      "Epoch 65/100\n",
      "1200/1200 [==============================] - 2s 2ms/step - loss: 0.3574 - accuracy: 0.9027 - val_loss: 0.3694 - val_accuracy: 0.8956\n",
      "Epoch 66/100\n",
      "1200/1200 [==============================] - 3s 2ms/step - loss: 0.3564 - accuracy: 0.9029 - val_loss: 0.3684 - val_accuracy: 0.8964\n",
      "Epoch 67/100\n",
      "1200/1200 [==============================] - 2s 2ms/step - loss: 0.3554 - accuracy: 0.9033 - val_loss: 0.3676 - val_accuracy: 0.8965\n",
      "Epoch 68/100\n",
      "1200/1200 [==============================] - 2s 2ms/step - loss: 0.3544 - accuracy: 0.9036 - val_loss: 0.3666 - val_accuracy: 0.8968\n",
      "Epoch 69/100\n",
      "1200/1200 [==============================] - 2s 2ms/step - loss: 0.3535 - accuracy: 0.9037 - val_loss: 0.3657 - val_accuracy: 0.8971\n",
      "Epoch 70/100\n",
      "1200/1200 [==============================] - 2s 2ms/step - loss: 0.3526 - accuracy: 0.9038 - val_loss: 0.3649 - val_accuracy: 0.8972\n",
      "Epoch 71/100\n",
      "1200/1200 [==============================] - 2s 2ms/step - loss: 0.3517 - accuracy: 0.9042 - val_loss: 0.3640 - val_accuracy: 0.8980\n",
      "Epoch 72/100\n",
      "1200/1200 [==============================] - 2s 2ms/step - loss: 0.3508 - accuracy: 0.9044 - val_loss: 0.3633 - val_accuracy: 0.8982\n",
      "Epoch 73/100\n",
      "1200/1200 [==============================] - 3s 2ms/step - loss: 0.3499 - accuracy: 0.9047 - val_loss: 0.3624 - val_accuracy: 0.8985\n",
      "Epoch 74/100\n",
      "1200/1200 [==============================] - 2s 2ms/step - loss: 0.3491 - accuracy: 0.9047 - val_loss: 0.3616 - val_accuracy: 0.8985\n",
      "Epoch 75/100\n",
      "1200/1200 [==============================] - 2s 2ms/step - loss: 0.3483 - accuracy: 0.9049 - val_loss: 0.3608 - val_accuracy: 0.8986\n",
      "Epoch 76/100\n",
      "1200/1200 [==============================] - 2s 2ms/step - loss: 0.3474 - accuracy: 0.9051 - val_loss: 0.3600 - val_accuracy: 0.8991\n",
      "Epoch 77/100\n",
      "1200/1200 [==============================] - 2s 2ms/step - loss: 0.3467 - accuracy: 0.9053 - val_loss: 0.3593 - val_accuracy: 0.8994\n",
      "Epoch 78/100\n",
      "1200/1200 [==============================] - 2s 2ms/step - loss: 0.3459 - accuracy: 0.9053 - val_loss: 0.3586 - val_accuracy: 0.8991\n",
      "Epoch 79/100\n",
      "1200/1200 [==============================] - 2s 2ms/step - loss: 0.3451 - accuracy: 0.9056 - val_loss: 0.3580 - val_accuracy: 0.8998\n",
      "Epoch 80/100\n",
      "1200/1200 [==============================] - 3s 2ms/step - loss: 0.3443 - accuracy: 0.9059 - val_loss: 0.3572 - val_accuracy: 0.8998\n",
      "Epoch 81/100\n",
      "1200/1200 [==============================] - 2s 2ms/step - loss: 0.3436 - accuracy: 0.9059 - val_loss: 0.3565 - val_accuracy: 0.8995\n",
      "Epoch 82/100\n",
      "1200/1200 [==============================] - 2s 2ms/step - loss: 0.3429 - accuracy: 0.9059 - val_loss: 0.3558 - val_accuracy: 0.9000\n",
      "Epoch 83/100\n",
      "1200/1200 [==============================] - 2s 2ms/step - loss: 0.3422 - accuracy: 0.9061 - val_loss: 0.3551 - val_accuracy: 0.8998\n",
      "Epoch 84/100\n",
      "1200/1200 [==============================] - 2s 2ms/step - loss: 0.3415 - accuracy: 0.9063 - val_loss: 0.3545 - val_accuracy: 0.8998\n",
      "Epoch 85/100\n",
      "1200/1200 [==============================] - 2s 2ms/step - loss: 0.3408 - accuracy: 0.9064 - val_loss: 0.3538 - val_accuracy: 0.9001\n",
      "Epoch 86/100\n",
      "1200/1200 [==============================] - 2s 2ms/step - loss: 0.3401 - accuracy: 0.9066 - val_loss: 0.3532 - val_accuracy: 0.8999\n",
      "Epoch 87/100\n",
      "1200/1200 [==============================] - 3s 2ms/step - loss: 0.3395 - accuracy: 0.9065 - val_loss: 0.3526 - val_accuracy: 0.9007\n",
      "Epoch 88/100\n",
      "1200/1200 [==============================] - 2s 2ms/step - loss: 0.3388 - accuracy: 0.9066 - val_loss: 0.3520 - val_accuracy: 0.9001\n",
      "Epoch 89/100\n",
      "1200/1200 [==============================] - 2s 2ms/step - loss: 0.3382 - accuracy: 0.9071 - val_loss: 0.3514 - val_accuracy: 0.9004\n",
      "Epoch 90/100\n",
      "1200/1200 [==============================] - 2s 2ms/step - loss: 0.3375 - accuracy: 0.9068 - val_loss: 0.3509 - val_accuracy: 0.9006\n",
      "Epoch 91/100\n",
      "1200/1200 [==============================] - 2s 2ms/step - loss: 0.3369 - accuracy: 0.9072 - val_loss: 0.3502 - val_accuracy: 0.9015\n",
      "Epoch 92/100\n",
      "1200/1200 [==============================] - 2s 2ms/step - loss: 0.3363 - accuracy: 0.9073 - val_loss: 0.3497 - val_accuracy: 0.9013\n",
      "Epoch 93/100\n",
      "1200/1200 [==============================] - 2s 2ms/step - loss: 0.3357 - accuracy: 0.9071 - val_loss: 0.3491 - val_accuracy: 0.9014\n",
      "Epoch 94/100\n",
      "1200/1200 [==============================] - 3s 2ms/step - loss: 0.3351 - accuracy: 0.9075 - val_loss: 0.3486 - val_accuracy: 0.9010\n",
      "Epoch 95/100\n",
      "1200/1200 [==============================] - 2s 2ms/step - loss: 0.3345 - accuracy: 0.9077 - val_loss: 0.3481 - val_accuracy: 0.9011\n",
      "Epoch 96/100\n",
      "1200/1200 [==============================] - 2s 2ms/step - loss: 0.3340 - accuracy: 0.9079 - val_loss: 0.3475 - val_accuracy: 0.9015\n",
      "Epoch 97/100\n",
      "1200/1200 [==============================] - 2s 2ms/step - loss: 0.3334 - accuracy: 0.9079 - val_loss: 0.3470 - val_accuracy: 0.9017\n",
      "Epoch 98/100\n",
      "1200/1200 [==============================] - 2s 2ms/step - loss: 0.3329 - accuracy: 0.9081 - val_loss: 0.3465 - val_accuracy: 0.9016\n",
      "Epoch 99/100\n",
      "1200/1200 [==============================] - 2s 2ms/step - loss: 0.3323 - accuracy: 0.9083 - val_loss: 0.3459 - val_accuracy: 0.9019\n",
      "Epoch 100/100\n",
      "1200/1200 [==============================] - 2s 2ms/step - loss: 0.3318 - accuracy: 0.9083 - val_loss: 0.3455 - val_accuracy: 0.9021\n"
     ]
    }
   ],
   "source": [
    "history = model.fit(X_train, y_train, epochs = 100, verbose=1 , validation_split= 0.2 )"
   ]
  },
  {
   "cell_type": "code",
   "execution_count": 50,
   "id": "74a91ab0",
   "metadata": {
    "ExecuteTime": {
     "end_time": "2022-05-12T07:09:47.438358Z",
     "start_time": "2022-05-12T07:09:46.826685Z"
    }
   },
   "outputs": [
    {
     "name": "stdout",
     "output_type": "stream",
     "text": [
      "375/375 [==============================] - 1s 1ms/step - loss: 0.3611 - accuracy: 0.8992\n"
     ]
    }
   ],
   "source": [
    "loss, accuracy =  model.evaluate(X_test, y_test)"
   ]
  },
  {
   "cell_type": "code",
   "execution_count": 51,
   "id": "02ea9228",
   "metadata": {
    "ExecuteTime": {
     "end_time": "2022-05-12T07:09:59.703117Z",
     "start_time": "2022-05-12T07:09:59.681110Z"
    }
   },
   "outputs": [
    {
     "data": {
      "text/plain": [
       "36.11"
      ]
     },
     "execution_count": 51,
     "metadata": {},
     "output_type": "execute_result"
    }
   ],
   "source": [
    "round(loss * 100, 2)"
   ]
  },
  {
   "cell_type": "code",
   "execution_count": 52,
   "id": "81171db0",
   "metadata": {
    "ExecuteTime": {
     "end_time": "2022-05-12T07:10:11.916720Z",
     "start_time": "2022-05-12T07:10:11.896731Z"
    }
   },
   "outputs": [
    {
     "data": {
      "text/plain": [
       "89.92"
      ]
     },
     "execution_count": 52,
     "metadata": {},
     "output_type": "execute_result"
    }
   ],
   "source": [
    "round(accuracy * 100, 2)"
   ]
  },
  {
   "cell_type": "code",
   "execution_count": null,
   "id": "cbdace08",
   "metadata": {},
   "outputs": [],
   "source": []
  },
  {
   "cell_type": "code",
   "execution_count": null,
   "id": "e1349a6d",
   "metadata": {},
   "outputs": [],
   "source": []
  }
 ],
 "metadata": {
  "kernelspec": {
   "display_name": "Python 3 (ipykernel)",
   "language": "python",
   "name": "python3"
  },
  "language_info": {
   "codemirror_mode": {
    "name": "ipython",
    "version": 3
   },
   "file_extension": ".py",
   "mimetype": "text/x-python",
   "name": "python",
   "nbconvert_exporter": "python",
   "pygments_lexer": "ipython3",
   "version": "3.9.12"
  },
  "toc": {
   "base_numbering": 1,
   "nav_menu": {},
   "number_sections": true,
   "sideBar": true,
   "skip_h1_title": false,
   "title_cell": "Table of Contents",
   "title_sidebar": "Contents",
   "toc_cell": false,
   "toc_position": {},
   "toc_section_display": true,
   "toc_window_display": false
  }
 },
 "nbformat": 4,
 "nbformat_minor": 5
}
