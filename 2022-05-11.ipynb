{
 "cells": [
  {
   "cell_type": "code",
   "execution_count": 26,
   "id": "0507e852",
   "metadata": {
    "ExecuteTime": {
     "end_time": "2022-05-11T06:04:38.234102Z",
     "start_time": "2022-05-11T06:04:38.220116Z"
    }
   },
   "outputs": [],
   "source": [
    "import os\n",
    "import tensorflow as tf\n",
    "import tensorflow.keras as keras\n",
    "import pandas as pd\n",
    "import numpy as np"
   ]
  },
  {
   "cell_type": "code",
   "execution_count": 5,
   "id": "bd294afb",
   "metadata": {
    "ExecuteTime": {
     "end_time": "2022-05-11T05:47:56.337938Z",
     "start_time": "2022-05-11T05:47:56.295963Z"
    }
   },
   "outputs": [],
   "source": [
    "data = pd.read_csv(\"./gpascore.csv\", encoding='ANSI')"
   ]
  },
  {
   "cell_type": "code",
   "execution_count": 6,
   "id": "2abd9728",
   "metadata": {
    "ExecuteTime": {
     "end_time": "2022-05-11T05:47:56.400902Z",
     "start_time": "2022-05-11T05:47:56.347931Z"
    }
   },
   "outputs": [
    {
     "data": {
      "text/html": [
       "<div>\n",
       "<style scoped>\n",
       "    .dataframe tbody tr th:only-of-type {\n",
       "        vertical-align: middle;\n",
       "    }\n",
       "\n",
       "    .dataframe tbody tr th {\n",
       "        vertical-align: top;\n",
       "    }\n",
       "\n",
       "    .dataframe thead th {\n",
       "        text-align: right;\n",
       "    }\n",
       "</style>\n",
       "<table border=\"1\" class=\"dataframe\">\n",
       "  <thead>\n",
       "    <tr style=\"text-align: right;\">\n",
       "      <th></th>\n",
       "      <th>admit</th>\n",
       "      <th>gre</th>\n",
       "      <th>gpa</th>\n",
       "      <th>rank</th>\n",
       "    </tr>\n",
       "  </thead>\n",
       "  <tbody>\n",
       "    <tr>\n",
       "      <th>0</th>\n",
       "      <td>0</td>\n",
       "      <td>380.0</td>\n",
       "      <td>3.21</td>\n",
       "      <td>3</td>\n",
       "    </tr>\n",
       "    <tr>\n",
       "      <th>1</th>\n",
       "      <td>1</td>\n",
       "      <td>660.0</td>\n",
       "      <td>3.67</td>\n",
       "      <td>3</td>\n",
       "    </tr>\n",
       "    <tr>\n",
       "      <th>2</th>\n",
       "      <td>1</td>\n",
       "      <td>800.0</td>\n",
       "      <td>4.00</td>\n",
       "      <td>1</td>\n",
       "    </tr>\n",
       "    <tr>\n",
       "      <th>3</th>\n",
       "      <td>1</td>\n",
       "      <td>640.0</td>\n",
       "      <td>3.19</td>\n",
       "      <td>4</td>\n",
       "    </tr>\n",
       "    <tr>\n",
       "      <th>4</th>\n",
       "      <td>0</td>\n",
       "      <td>520.0</td>\n",
       "      <td>2.33</td>\n",
       "      <td>4</td>\n",
       "    </tr>\n",
       "  </tbody>\n",
       "</table>\n",
       "</div>"
      ],
      "text/plain": [
       "   admit    gre   gpa  rank\n",
       "0      0  380.0  3.21     3\n",
       "1      1  660.0  3.67     3\n",
       "2      1  800.0  4.00     1\n",
       "3      1  640.0  3.19     4\n",
       "4      0  520.0  2.33     4"
      ]
     },
     "execution_count": 6,
     "metadata": {},
     "output_type": "execute_result"
    }
   ],
   "source": [
    "data.head()"
   ]
  },
  {
   "cell_type": "code",
   "execution_count": 7,
   "id": "bbe6f1cf",
   "metadata": {
    "ExecuteTime": {
     "end_time": "2022-05-11T05:47:56.463867Z",
     "start_time": "2022-05-11T05:47:56.408897Z"
    }
   },
   "outputs": [
    {
     "data": {
      "text/html": [
       "<div>\n",
       "<style scoped>\n",
       "    .dataframe tbody tr th:only-of-type {\n",
       "        vertical-align: middle;\n",
       "    }\n",
       "\n",
       "    .dataframe tbody tr th {\n",
       "        vertical-align: top;\n",
       "    }\n",
       "\n",
       "    .dataframe thead th {\n",
       "        text-align: right;\n",
       "    }\n",
       "</style>\n",
       "<table border=\"1\" class=\"dataframe\">\n",
       "  <thead>\n",
       "    <tr style=\"text-align: right;\">\n",
       "      <th></th>\n",
       "      <th>admit</th>\n",
       "      <th>gre</th>\n",
       "      <th>gpa</th>\n",
       "      <th>rank</th>\n",
       "    </tr>\n",
       "  </thead>\n",
       "  <tbody>\n",
       "    <tr>\n",
       "      <th>count</th>\n",
       "      <td>426.000000</td>\n",
       "      <td>425.000000</td>\n",
       "      <td>426.000000</td>\n",
       "      <td>426.000000</td>\n",
       "    </tr>\n",
       "    <tr>\n",
       "      <th>mean</th>\n",
       "      <td>0.474178</td>\n",
       "      <td>594.329412</td>\n",
       "      <td>3.386925</td>\n",
       "      <td>2.476526</td>\n",
       "    </tr>\n",
       "    <tr>\n",
       "      <th>std</th>\n",
       "      <td>0.499920</td>\n",
       "      <td>118.928331</td>\n",
       "      <td>0.396080</td>\n",
       "      <td>0.950870</td>\n",
       "    </tr>\n",
       "    <tr>\n",
       "      <th>min</th>\n",
       "      <td>0.000000</td>\n",
       "      <td>220.000000</td>\n",
       "      <td>2.120000</td>\n",
       "      <td>1.000000</td>\n",
       "    </tr>\n",
       "    <tr>\n",
       "      <th>25%</th>\n",
       "      <td>0.000000</td>\n",
       "      <td>520.000000</td>\n",
       "      <td>3.122500</td>\n",
       "      <td>2.000000</td>\n",
       "    </tr>\n",
       "    <tr>\n",
       "      <th>50%</th>\n",
       "      <td>0.000000</td>\n",
       "      <td>600.000000</td>\n",
       "      <td>3.395000</td>\n",
       "      <td>2.000000</td>\n",
       "    </tr>\n",
       "    <tr>\n",
       "      <th>75%</th>\n",
       "      <td>1.000000</td>\n",
       "      <td>680.000000</td>\n",
       "      <td>3.700000</td>\n",
       "      <td>3.000000</td>\n",
       "    </tr>\n",
       "    <tr>\n",
       "      <th>max</th>\n",
       "      <td>1.000000</td>\n",
       "      <td>800.000000</td>\n",
       "      <td>4.000000</td>\n",
       "      <td>4.000000</td>\n",
       "    </tr>\n",
       "  </tbody>\n",
       "</table>\n",
       "</div>"
      ],
      "text/plain": [
       "            admit         gre         gpa        rank\n",
       "count  426.000000  425.000000  426.000000  426.000000\n",
       "mean     0.474178  594.329412    3.386925    2.476526\n",
       "std      0.499920  118.928331    0.396080    0.950870\n",
       "min      0.000000  220.000000    2.120000    1.000000\n",
       "25%      0.000000  520.000000    3.122500    2.000000\n",
       "50%      0.000000  600.000000    3.395000    2.000000\n",
       "75%      1.000000  680.000000    3.700000    3.000000\n",
       "max      1.000000  800.000000    4.000000    4.000000"
      ]
     },
     "execution_count": 7,
     "metadata": {},
     "output_type": "execute_result"
    }
   ],
   "source": [
    "data.describe()"
   ]
  },
  {
   "cell_type": "code",
   "execution_count": 8,
   "id": "70e4595f",
   "metadata": {
    "ExecuteTime": {
     "end_time": "2022-05-11T05:47:56.495848Z",
     "start_time": "2022-05-11T05:47:56.467862Z"
    }
   },
   "outputs": [
    {
     "data": {
      "text/plain": [
       "admit    0\n",
       "gre      1\n",
       "gpa      0\n",
       "rank     0\n",
       "dtype: int64"
      ]
     },
     "execution_count": 8,
     "metadata": {},
     "output_type": "execute_result"
    }
   ],
   "source": [
    "data.isnull().sum()"
   ]
  },
  {
   "cell_type": "code",
   "execution_count": 9,
   "id": "f25f0658",
   "metadata": {
    "ExecuteTime": {
     "end_time": "2022-05-11T05:47:56.511839Z",
     "start_time": "2022-05-11T05:47:56.500846Z"
    }
   },
   "outputs": [],
   "source": [
    "data2 = data.dropna()"
   ]
  },
  {
   "cell_type": "code",
   "execution_count": 10,
   "id": "ae957d5e",
   "metadata": {
    "ExecuteTime": {
     "end_time": "2022-05-11T05:47:56.542823Z",
     "start_time": "2022-05-11T05:47:56.515836Z"
    }
   },
   "outputs": [
    {
     "name": "stdout",
     "output_type": "stream",
     "text": [
      "0      380.0\n",
      "1      660.0\n",
      "2      800.0\n",
      "3      640.0\n",
      "4      520.0\n",
      "       ...  \n",
      "421    750.0\n",
      "422    710.0\n",
      "423    450.0\n",
      "424    760.0\n",
      "425    710.0\n",
      "Name: gre, Length: 425, dtype: float64\n"
     ]
    }
   ],
   "source": [
    "print(data2['gre'])"
   ]
  },
  {
   "cell_type": "code",
   "execution_count": 11,
   "id": "10b75ee5",
   "metadata": {
    "ExecuteTime": {
     "end_time": "2022-05-11T05:48:01.159569Z",
     "start_time": "2022-05-11T05:48:01.145577Z"
    }
   },
   "outputs": [],
   "source": [
    "Y_data = data2['admit']"
   ]
  },
  {
   "cell_type": "code",
   "execution_count": 12,
   "id": "64e093f4",
   "metadata": {
    "ExecuteTime": {
     "end_time": "2022-05-11T05:48:26.007916Z",
     "start_time": "2022-05-11T05:48:25.937955Z"
    }
   },
   "outputs": [],
   "source": [
    "X_data = []\n",
    "for i, rows in data2.iterrows() :\n",
    "    X_data.append([rows['gre'], rows['gpa'],rows['rank']] )"
   ]
  },
  {
   "cell_type": "code",
   "execution_count": null,
   "id": "9f55fb77",
   "metadata": {},
   "outputs": [],
   "source": []
  },
  {
   "cell_type": "markdown",
   "id": "8b153bcf",
   "metadata": {},
   "source": [
    "# model 정의"
   ]
  },
  {
   "cell_type": "code",
   "execution_count": 13,
   "id": "0b49a741",
   "metadata": {
    "ExecuteTime": {
     "end_time": "2022-05-11T05:48:27.620733Z",
     "start_time": "2022-05-11T05:48:27.604740Z"
    }
   },
   "outputs": [],
   "source": [
    "from tensorflow.keras.models import Sequential\n",
    "from tensorflow.keras.layers import Dense"
   ]
  },
  {
   "cell_type": "code",
   "execution_count": 14,
   "id": "f7b8b3cb",
   "metadata": {
    "ExecuteTime": {
     "end_time": "2022-05-11T05:48:28.014193Z",
     "start_time": "2022-05-11T05:48:27.980211Z"
    }
   },
   "outputs": [],
   "source": [
    "model = Sequential([Dense(64, activation='tanh'),\n",
    "                    Dense(128, activation='tanh'),\n",
    "                    Dense(1, activation='sigmoid')])"
   ]
  },
  {
   "cell_type": "code",
   "execution_count": 17,
   "id": "3088ec4d",
   "metadata": {
    "ExecuteTime": {
     "end_time": "2022-05-11T05:48:52.695978Z",
     "start_time": "2022-05-11T05:48:52.674991Z"
    }
   },
   "outputs": [],
   "source": [
    "model.compile(optimizer='adam', loss='binary_crossentropy', metrics='accuracy')"
   ]
  },
  {
   "cell_type": "code",
   "execution_count": 18,
   "id": "2e45cbac",
   "metadata": {
    "ExecuteTime": {
     "end_time": "2022-05-11T05:48:59.961782Z",
     "start_time": "2022-05-11T05:48:54.098464Z"
    },
    "collapsed": true
   },
   "outputs": [
    {
     "name": "stdout",
     "output_type": "stream",
     "text": [
      "Epoch 1/100\n",
      "14/14 [==============================] - 1s 4ms/step - loss: 0.7017 - accuracy: 0.4612\n",
      "Epoch 2/100\n",
      "14/14 [==============================] - 0s 3ms/step - loss: 0.6972 - accuracy: 0.4941\n",
      "Epoch 3/100\n",
      "14/14 [==============================] - 0s 3ms/step - loss: 0.6947 - accuracy: 0.5082\n",
      "Epoch 4/100\n",
      "14/14 [==============================] - 0s 3ms/step - loss: 0.6976 - accuracy: 0.5224\n",
      "Epoch 5/100\n",
      "14/14 [==============================] - 0s 3ms/step - loss: 0.6894 - accuracy: 0.5435\n",
      "Epoch 6/100\n",
      "14/14 [==============================] - 0s 3ms/step - loss: 0.6994 - accuracy: 0.4941\n",
      "Epoch 7/100\n",
      "14/14 [==============================] - 0s 3ms/step - loss: 0.6912 - accuracy: 0.5059\n",
      "Epoch 8/100\n",
      "14/14 [==============================] - 0s 2ms/step - loss: 0.6790 - accuracy: 0.5882\n",
      "Epoch 9/100\n",
      "14/14 [==============================] - 0s 3ms/step - loss: 0.6879 - accuracy: 0.5624\n",
      "Epoch 10/100\n",
      "14/14 [==============================] - 0s 3ms/step - loss: 0.7012 - accuracy: 0.4988\n",
      "Epoch 11/100\n",
      "14/14 [==============================] - 0s 3ms/step - loss: 0.6704 - accuracy: 0.5788\n",
      "Epoch 12/100\n",
      "14/14 [==============================] - 0s 3ms/step - loss: 0.6891 - accuracy: 0.5412\n",
      "Epoch 13/100\n",
      "14/14 [==============================] - 0s 2ms/step - loss: 0.6801 - accuracy: 0.5459\n",
      "Epoch 14/100\n",
      "14/14 [==============================] - 0s 3ms/step - loss: 0.6736 - accuracy: 0.5624\n",
      "Epoch 15/100\n",
      "14/14 [==============================] - 0s 2ms/step - loss: 0.6718 - accuracy: 0.5553\n",
      "Epoch 16/100\n",
      "14/14 [==============================] - 0s 3ms/step - loss: 0.6700 - accuracy: 0.5341\n",
      "Epoch 17/100\n",
      "14/14 [==============================] - 0s 3ms/step - loss: 0.6615 - accuracy: 0.6047\n",
      "Epoch 18/100\n",
      "14/14 [==============================] - 0s 3ms/step - loss: 0.6850 - accuracy: 0.5365\n",
      "Epoch 19/100\n",
      "14/14 [==============================] - 0s 2ms/step - loss: 0.6546 - accuracy: 0.6424\n",
      "Epoch 20/100\n",
      "14/14 [==============================] - 0s 3ms/step - loss: 0.6499 - accuracy: 0.6188\n",
      "Epoch 21/100\n",
      "14/14 [==============================] - 0s 3ms/step - loss: 0.6449 - accuracy: 0.6212\n",
      "Epoch 22/100\n",
      "14/14 [==============================] - 0s 3ms/step - loss: 0.6573 - accuracy: 0.6024\n",
      "Epoch 23/100\n",
      "14/14 [==============================] - 0s 2ms/step - loss: 0.6475 - accuracy: 0.6706\n",
      "Epoch 24/100\n",
      "14/14 [==============================] - 0s 4ms/step - loss: 0.6612 - accuracy: 0.6047\n",
      "Epoch 25/100\n",
      "14/14 [==============================] - 0s 3ms/step - loss: 0.6562 - accuracy: 0.5647\n",
      "Epoch 26/100\n",
      "14/14 [==============================] - 0s 3ms/step - loss: 0.6374 - accuracy: 0.6541\n",
      "Epoch 27/100\n",
      "14/14 [==============================] - 0s 3ms/step - loss: 0.6510 - accuracy: 0.5976\n",
      "Epoch 28/100\n",
      "14/14 [==============================] - 0s 2ms/step - loss: 0.6310 - accuracy: 0.6565\n",
      "Epoch 29/100\n",
      "14/14 [==============================] - 0s 3ms/step - loss: 0.6376 - accuracy: 0.6306\n",
      "Epoch 30/100\n",
      "14/14 [==============================] - 0s 4ms/step - loss: 0.6268 - accuracy: 0.6329\n",
      "Epoch 31/100\n",
      "14/14 [==============================] - 0s 2ms/step - loss: 0.6748 - accuracy: 0.5576\n",
      "Epoch 32/100\n",
      "14/14 [==============================] - 0s 2ms/step - loss: 0.6738 - accuracy: 0.5318\n",
      "Epoch 33/100\n",
      "14/14 [==============================] - 0s 2ms/step - loss: 0.6398 - accuracy: 0.6235\n",
      "Epoch 34/100\n",
      "14/14 [==============================] - 0s 3ms/step - loss: 0.6321 - accuracy: 0.6424\n",
      "Epoch 35/100\n",
      "14/14 [==============================] - 0s 2ms/step - loss: 0.6766 - accuracy: 0.5600\n",
      "Epoch 36/100\n",
      "14/14 [==============================] - 0s 4ms/step - loss: 0.6504 - accuracy: 0.5929\n",
      "Epoch 37/100\n",
      "14/14 [==============================] - 0s 3ms/step - loss: 0.6435 - accuracy: 0.6259\n",
      "Epoch 38/100\n",
      "14/14 [==============================] - 0s 3ms/step - loss: 0.6675 - accuracy: 0.5694\n",
      "Epoch 39/100\n",
      "14/14 [==============================] - 0s 3ms/step - loss: 0.6443 - accuracy: 0.6071\n",
      "Epoch 40/100\n",
      "14/14 [==============================] - 0s 4ms/step - loss: 0.6825 - accuracy: 0.5200\n",
      "Epoch 41/100\n",
      "14/14 [==============================] - 0s 3ms/step - loss: 0.6817 - accuracy: 0.5459\n",
      "Epoch 42/100\n",
      "14/14 [==============================] - 0s 2ms/step - loss: 0.6405 - accuracy: 0.6141\n",
      "Epoch 43/100\n",
      "14/14 [==============================] - 0s 3ms/step - loss: 0.6607 - accuracy: 0.6118\n",
      "Epoch 44/100\n",
      "14/14 [==============================] - 0s 3ms/step - loss: 0.6372 - accuracy: 0.6400\n",
      "Epoch 45/100\n",
      "14/14 [==============================] - 0s 3ms/step - loss: 0.6359 - accuracy: 0.6212\n",
      "Epoch 46/100\n",
      "14/14 [==============================] - 0s 3ms/step - loss: 0.6304 - accuracy: 0.6376\n",
      "Epoch 47/100\n",
      "14/14 [==============================] - 0s 3ms/step - loss: 0.6437 - accuracy: 0.6188\n",
      "Epoch 48/100\n",
      "14/14 [==============================] - 0s 3ms/step - loss: 0.6266 - accuracy: 0.6353\n",
      "Epoch 49/100\n",
      "14/14 [==============================] - 0s 2ms/step - loss: 0.6249 - accuracy: 0.6306\n",
      "Epoch 50/100\n",
      "14/14 [==============================] - 0s 3ms/step - loss: 0.6396 - accuracy: 0.6235\n",
      "Epoch 51/100\n",
      "14/14 [==============================] - 0s 3ms/step - loss: 0.6535 - accuracy: 0.5929\n",
      "Epoch 52/100\n",
      "14/14 [==============================] - 0s 3ms/step - loss: 0.6345 - accuracy: 0.6471\n",
      "Epoch 53/100\n",
      "14/14 [==============================] - 0s 4ms/step - loss: 0.6174 - accuracy: 0.6565\n",
      "Epoch 54/100\n",
      "14/14 [==============================] - 0s 3ms/step - loss: 0.6260 - accuracy: 0.6259\n",
      "Epoch 55/100\n",
      "14/14 [==============================] - 0s 3ms/step - loss: 0.6506 - accuracy: 0.6047\n",
      "Epoch 56/100\n",
      "14/14 [==============================] - 0s 3ms/step - loss: 0.6615 - accuracy: 0.5882\n",
      "Epoch 57/100\n",
      "14/14 [==============================] - 0s 6ms/step - loss: 0.6604 - accuracy: 0.5906\n",
      "Epoch 58/100\n",
      "14/14 [==============================] - 0s 5ms/step - loss: 0.6541 - accuracy: 0.6047\n",
      "Epoch 59/100\n",
      "14/14 [==============================] - 0s 3ms/step - loss: 0.6478 - accuracy: 0.6165\n",
      "Epoch 60/100\n",
      "14/14 [==============================] - 0s 3ms/step - loss: 0.6348 - accuracy: 0.6353\n",
      "Epoch 61/100\n",
      "14/14 [==============================] - 0s 3ms/step - loss: 0.6416 - accuracy: 0.6259\n",
      "Epoch 62/100\n",
      "14/14 [==============================] - 0s 3ms/step - loss: 0.6168 - accuracy: 0.6541\n",
      "Epoch 63/100\n",
      "14/14 [==============================] - 0s 3ms/step - loss: 0.6521 - accuracy: 0.6306\n",
      "Epoch 64/100\n",
      "14/14 [==============================] - 0s 3ms/step - loss: 0.6498 - accuracy: 0.5671\n",
      "Epoch 65/100\n",
      "14/14 [==============================] - 0s 3ms/step - loss: 0.6338 - accuracy: 0.6588\n",
      "Epoch 66/100\n",
      "14/14 [==============================] - 0s 4ms/step - loss: 0.6324 - accuracy: 0.6424\n",
      "Epoch 67/100\n",
      "14/14 [==============================] - 0s 3ms/step - loss: 0.6683 - accuracy: 0.5929\n",
      "Epoch 68/100\n",
      "14/14 [==============================] - 0s 3ms/step - loss: 0.6439 - accuracy: 0.6071\n",
      "Epoch 69/100\n",
      "14/14 [==============================] - 0s 3ms/step - loss: 0.6547 - accuracy: 0.6000\n",
      "Epoch 70/100\n",
      "14/14 [==============================] - 0s 3ms/step - loss: 0.6434 - accuracy: 0.6024\n",
      "Epoch 71/100\n",
      "14/14 [==============================] - 0s 3ms/step - loss: 0.6464 - accuracy: 0.6212\n",
      "Epoch 72/100\n",
      "14/14 [==============================] - 0s 3ms/step - loss: 0.6393 - accuracy: 0.6424\n",
      "Epoch 73/100\n",
      "14/14 [==============================] - 0s 3ms/step - loss: 0.6198 - accuracy: 0.6424\n",
      "Epoch 74/100\n",
      "14/14 [==============================] - 0s 2ms/step - loss: 0.6155 - accuracy: 0.6518\n",
      "Epoch 75/100\n",
      "14/14 [==============================] - 0s 3ms/step - loss: 0.6454 - accuracy: 0.6329\n",
      "Epoch 76/100\n",
      "14/14 [==============================] - 0s 3ms/step - loss: 0.6262 - accuracy: 0.6494\n",
      "Epoch 77/100\n",
      "14/14 [==============================] - 0s 3ms/step - loss: 0.6244 - accuracy: 0.6635\n",
      "Epoch 78/100\n",
      "14/14 [==============================] - 0s 3ms/step - loss: 0.6387 - accuracy: 0.6400\n",
      "Epoch 79/100\n",
      "14/14 [==============================] - 0s 3ms/step - loss: 0.6322 - accuracy: 0.6306\n",
      "Epoch 80/100\n",
      "14/14 [==============================] - 0s 3ms/step - loss: 0.6152 - accuracy: 0.6588\n",
      "Epoch 81/100\n",
      "14/14 [==============================] - 0s 5ms/step - loss: 0.6469 - accuracy: 0.6306\n",
      "Epoch 82/100\n",
      "14/14 [==============================] - 0s 3ms/step - loss: 0.6302 - accuracy: 0.6188\n",
      "Epoch 83/100\n"
     ]
    },
    {
     "name": "stdout",
     "output_type": "stream",
     "text": [
      "14/14 [==============================] - 0s 4ms/step - loss: 0.6297 - accuracy: 0.6424\n",
      "Epoch 84/100\n",
      "14/14 [==============================] - 0s 2ms/step - loss: 0.6542 - accuracy: 0.6094\n",
      "Epoch 85/100\n",
      "14/14 [==============================] - 0s 2ms/step - loss: 0.6732 - accuracy: 0.5647\n",
      "Epoch 86/100\n",
      "14/14 [==============================] - 0s 3ms/step - loss: 0.6327 - accuracy: 0.6447\n",
      "Epoch 87/100\n",
      "14/14 [==============================] - 0s 3ms/step - loss: 0.6494 - accuracy: 0.6306\n",
      "Epoch 88/100\n",
      "14/14 [==============================] - 0s 5ms/step - loss: 0.6381 - accuracy: 0.6141\n",
      "Epoch 89/100\n",
      "14/14 [==============================] - 0s 3ms/step - loss: 0.6450 - accuracy: 0.6071\n",
      "Epoch 90/100\n",
      "14/14 [==============================] - 0s 3ms/step - loss: 0.6366 - accuracy: 0.6071\n",
      "Epoch 91/100\n",
      "14/14 [==============================] - 0s 3ms/step - loss: 0.6231 - accuracy: 0.6471\n",
      "Epoch 92/100\n",
      "14/14 [==============================] - 0s 3ms/step - loss: 0.6192 - accuracy: 0.6682\n",
      "Epoch 93/100\n",
      "14/14 [==============================] - 0s 3ms/step - loss: 0.6142 - accuracy: 0.6518\n",
      "Epoch 94/100\n",
      "14/14 [==============================] - 0s 3ms/step - loss: 0.6265 - accuracy: 0.6188\n",
      "Epoch 95/100\n",
      "14/14 [==============================] - 0s 3ms/step - loss: 0.6309 - accuracy: 0.6353\n",
      "Epoch 96/100\n",
      "14/14 [==============================] - 0s 3ms/step - loss: 0.6241 - accuracy: 0.6259\n",
      "Epoch 97/100\n",
      "14/14 [==============================] - 0s 3ms/step - loss: 0.6494 - accuracy: 0.6282\n",
      "Epoch 98/100\n",
      "14/14 [==============================] - 0s 4ms/step - loss: 0.7056 - accuracy: 0.5365\n",
      "Epoch 99/100\n",
      "14/14 [==============================] - 0s 3ms/step - loss: 0.6659 - accuracy: 0.5506\n",
      "Epoch 100/100\n",
      "14/14 [==============================] - 0s 4ms/step - loss: 0.6409 - accuracy: 0.6306\n"
     ]
    },
    {
     "data": {
      "text/plain": [
       "<keras.callbacks.History at 0x28a165d01c0>"
      ]
     },
     "execution_count": 18,
     "metadata": {},
     "output_type": "execute_result"
    }
   ],
   "source": [
    "model.fit(np.array(X_data), np.array(Y_data), epochs=100)"
   ]
  },
  {
   "cell_type": "code",
   "execution_count": 19,
   "id": "f3a8ce08",
   "metadata": {
    "ExecuteTime": {
     "end_time": "2022-05-11T05:49:43.169794Z",
     "start_time": "2022-05-11T05:49:43.157808Z"
    }
   },
   "outputs": [],
   "source": [
    "pred = [[750, 3.7, 3], [400, 2.2, 1]]"
   ]
  },
  {
   "cell_type": "code",
   "execution_count": 20,
   "id": "feed089e",
   "metadata": {
    "ExecuteTime": {
     "end_time": "2022-05-11T05:49:52.723794Z",
     "start_time": "2022-05-11T05:49:52.497179Z"
    }
   },
   "outputs": [
    {
     "data": {
      "text/plain": [
       "array([[0.6502967 ],\n",
       "       [0.56076765]], dtype=float32)"
      ]
     },
     "execution_count": 20,
     "metadata": {},
     "output_type": "execute_result"
    }
   ],
   "source": [
    "model.predict(pred)"
   ]
  },
  {
   "cell_type": "code",
   "execution_count": null,
   "id": "e59e470e",
   "metadata": {},
   "outputs": [],
   "source": []
  },
  {
   "cell_type": "code",
   "execution_count": null,
   "id": "4219014a",
   "metadata": {},
   "outputs": [],
   "source": []
  },
  {
   "cell_type": "markdown",
   "id": "1a4288e7",
   "metadata": {},
   "source": [
    "# 3시~\n",
    "```python\n",
    "model = Sequential([Dense(64, activation='tanh'),\n",
    "                    Dense(128, activation='tanh'),\n",
    "                    Dense(1, activation='sigmoid')])\n",
    "```"
   ]
  },
  {
   "cell_type": "code",
   "execution_count": 36,
   "id": "f49cdb1a",
   "metadata": {
    "ExecuteTime": {
     "end_time": "2022-05-11T06:10:44.383865Z",
     "start_time": "2022-05-11T06:10:44.365888Z"
    }
   },
   "outputs": [],
   "source": [
    "del model"
   ]
  },
  {
   "cell_type": "code",
   "execution_count": 37,
   "id": "8321ab95",
   "metadata": {
    "ExecuteTime": {
     "end_time": "2022-05-11T06:10:45.272344Z",
     "start_time": "2022-05-11T06:10:45.176399Z"
    }
   },
   "outputs": [
    {
     "name": "stdout",
     "output_type": "stream",
     "text": [
      "Model: \"sequential_10\"\n",
      "_________________________________________________________________\n",
      " Layer (type)                Output Shape              Param #   \n",
      "=================================================================\n",
      " dense_23 (Dense)            (None, 64)                256       \n",
      "                                                                 \n",
      " dense_24 (Dense)            (None, 128)               8320      \n",
      "                                                                 \n",
      " dense_25 (Dense)            (None, 1)                 129       \n",
      "                                                                 \n",
      "=================================================================\n",
      "Total params: 8,705\n",
      "Trainable params: 8,705\n",
      "Non-trainable params: 0\n",
      "_________________________________________________________________\n"
     ]
    }
   ],
   "source": [
    "model = Sequential()\n",
    "\n",
    "model.add(Dense(64, input_dim = 3 , activation='relu'))\n",
    "model.add(Dense(128, activation='relu'))\n",
    "model.add(Dense(1, activation='sigmoid'))\n",
    "\n",
    "model.summary()"
   ]
  },
  {
   "cell_type": "code",
   "execution_count": 38,
   "id": "d13be434",
   "metadata": {
    "ExecuteTime": {
     "end_time": "2022-05-11T06:10:46.784208Z",
     "start_time": "2022-05-11T06:10:46.762216Z"
    }
   },
   "outputs": [],
   "source": [
    "model.compile(optimizer='adam', loss='binary_crossentropy', metrics='accuracy')"
   ]
  },
  {
   "cell_type": "code",
   "execution_count": 40,
   "id": "424a044e",
   "metadata": {
    "ExecuteTime": {
     "end_time": "2022-05-11T06:12:31.953060Z",
     "start_time": "2022-05-11T06:12:18.533226Z"
    }
   },
   "outputs": [
    {
     "name": "stdout",
     "output_type": "stream",
     "text": [
      "Epoch 1/100\n",
      "43/43 [==============================] - 1s 3ms/step - loss: 4.8383 - accuracy: 0.5082\n",
      "Epoch 2/100\n",
      "43/43 [==============================] - 0s 2ms/step - loss: 2.1845 - accuracy: 0.4776\n",
      "Epoch 3/100\n",
      "43/43 [==============================] - 0s 2ms/step - loss: 1.3030 - accuracy: 0.5176\n",
      "Epoch 4/100\n",
      "43/43 [==============================] - 0s 2ms/step - loss: 1.4860 - accuracy: 0.5412\n",
      "Epoch 5/100\n",
      "43/43 [==============================] - 0s 3ms/step - loss: 0.9657 - accuracy: 0.5388\n",
      "Epoch 6/100\n",
      "43/43 [==============================] - 0s 3ms/step - loss: 1.3462 - accuracy: 0.4847\n",
      "Epoch 7/100\n",
      "43/43 [==============================] - 0s 2ms/step - loss: 0.9513 - accuracy: 0.4941\n",
      "Epoch 8/100\n",
      "43/43 [==============================] - 0s 3ms/step - loss: 1.0841 - accuracy: 0.4941\n",
      "Epoch 9/100\n",
      "43/43 [==============================] - 0s 3ms/step - loss: 1.0642 - accuracy: 0.5200\n",
      "Epoch 10/100\n",
      "43/43 [==============================] - 0s 3ms/step - loss: 1.3607 - accuracy: 0.5059\n",
      "Epoch 11/100\n",
      "43/43 [==============================] - 0s 3ms/step - loss: 1.2225 - accuracy: 0.4965\n",
      "Epoch 12/100\n",
      "43/43 [==============================] - 0s 3ms/step - loss: 0.9990 - accuracy: 0.4659\n",
      "Epoch 13/100\n",
      "43/43 [==============================] - 0s 3ms/step - loss: 1.1547 - accuracy: 0.5318\n",
      "Epoch 14/100\n",
      "43/43 [==============================] - 0s 3ms/step - loss: 1.0719 - accuracy: 0.5576\n",
      "Epoch 15/100\n",
      "43/43 [==============================] - 0s 2ms/step - loss: 1.0306 - accuracy: 0.4871\n",
      "Epoch 16/100\n",
      "43/43 [==============================] - 0s 2ms/step - loss: 1.1607 - accuracy: 0.5153\n",
      "Epoch 17/100\n",
      "43/43 [==============================] - 0s 3ms/step - loss: 0.9015 - accuracy: 0.5224\n",
      "Epoch 18/100\n",
      "43/43 [==============================] - 0s 3ms/step - loss: 1.1865 - accuracy: 0.5341\n",
      "Epoch 19/100\n",
      "43/43 [==============================] - 0s 3ms/step - loss: 1.0462 - accuracy: 0.4965\n",
      "Epoch 20/100\n",
      "43/43 [==============================] - 0s 2ms/step - loss: 0.8574 - accuracy: 0.5271\n",
      "Epoch 21/100\n",
      "43/43 [==============================] - 0s 2ms/step - loss: 1.2733 - accuracy: 0.4894\n",
      "Epoch 22/100\n",
      "43/43 [==============================] - 0s 2ms/step - loss: 0.9113 - accuracy: 0.5271\n",
      "Epoch 23/100\n",
      "43/43 [==============================] - 0s 3ms/step - loss: 0.9265 - accuracy: 0.5412\n",
      "Epoch 24/100\n",
      "43/43 [==============================] - 0s 3ms/step - loss: 0.8445 - accuracy: 0.5718\n",
      "Epoch 25/100\n",
      "43/43 [==============================] - 0s 3ms/step - loss: 0.9081 - accuracy: 0.5859\n",
      "Epoch 26/100\n",
      "43/43 [==============================] - 0s 3ms/step - loss: 0.9166 - accuracy: 0.5694\n",
      "Epoch 27/100\n",
      "43/43 [==============================] - 0s 2ms/step - loss: 0.9546 - accuracy: 0.5106\n",
      "Epoch 28/100\n",
      "43/43 [==============================] - 0s 2ms/step - loss: 0.9214 - accuracy: 0.5388\n",
      "Epoch 29/100\n",
      "43/43 [==============================] - 0s 3ms/step - loss: 0.8913 - accuracy: 0.5529\n",
      "Epoch 30/100\n",
      "43/43 [==============================] - 0s 3ms/step - loss: 0.9717 - accuracy: 0.5365\n",
      "Epoch 31/100\n",
      "43/43 [==============================] - 0s 3ms/step - loss: 0.9447 - accuracy: 0.5882\n",
      "Epoch 32/100\n",
      "43/43 [==============================] - 0s 4ms/step - loss: 0.9211 - accuracy: 0.5482\n",
      "Epoch 33/100\n",
      "43/43 [==============================] - 0s 3ms/step - loss: 0.9700 - accuracy: 0.5529\n",
      "Epoch 34/100\n",
      "43/43 [==============================] - 0s 3ms/step - loss: 0.7925 - accuracy: 0.5506\n",
      "Epoch 35/100\n",
      "43/43 [==============================] - 0s 3ms/step - loss: 1.1384 - accuracy: 0.5553\n",
      "Epoch 36/100\n",
      "43/43 [==============================] - 0s 3ms/step - loss: 0.6873 - accuracy: 0.6000\n",
      "Epoch 37/100\n",
      "43/43 [==============================] - 0s 3ms/step - loss: 0.7196 - accuracy: 0.6118\n",
      "Epoch 38/100\n",
      "43/43 [==============================] - 0s 2ms/step - loss: 0.9994 - accuracy: 0.5529\n",
      "Epoch 39/100\n",
      "43/43 [==============================] - 0s 3ms/step - loss: 1.3254 - accuracy: 0.5576\n",
      "Epoch 40/100\n",
      "43/43 [==============================] - 0s 3ms/step - loss: 1.1266 - accuracy: 0.5318\n",
      "Epoch 41/100\n",
      "43/43 [==============================] - 0s 2ms/step - loss: 1.4052 - accuracy: 0.5035\n",
      "Epoch 42/100\n",
      "43/43 [==============================] - 0s 2ms/step - loss: 1.2056 - accuracy: 0.5035\n",
      "Epoch 43/100\n",
      "43/43 [==============================] - 0s 3ms/step - loss: 1.0640 - accuracy: 0.5459\n",
      "Epoch 44/100\n",
      "43/43 [==============================] - 0s 3ms/step - loss: 1.2093 - accuracy: 0.5435\n",
      "Epoch 45/100\n",
      "43/43 [==============================] - 0s 3ms/step - loss: 0.8573 - accuracy: 0.5741\n",
      "Epoch 46/100\n",
      "43/43 [==============================] - 0s 4ms/step - loss: 0.9500 - accuracy: 0.5459\n",
      "Epoch 47/100\n",
      "43/43 [==============================] - 0s 2ms/step - loss: 1.0946 - accuracy: 0.5553\n",
      "Epoch 48/100\n",
      "43/43 [==============================] - 0s 3ms/step - loss: 0.9055 - accuracy: 0.5600\n",
      "Epoch 49/100\n",
      "43/43 [==============================] - 0s 3ms/step - loss: 0.8932 - accuracy: 0.5788\n",
      "Epoch 50/100\n",
      "43/43 [==============================] - 0s 3ms/step - loss: 0.7665 - accuracy: 0.5788\n",
      "Epoch 51/100\n",
      "43/43 [==============================] - 0s 3ms/step - loss: 0.7938 - accuracy: 0.6071\n",
      "Epoch 52/100\n",
      "43/43 [==============================] - 0s 3ms/step - loss: 0.7193 - accuracy: 0.6024\n",
      "Epoch 53/100\n",
      "43/43 [==============================] - 0s 3ms/step - loss: 1.1601 - accuracy: 0.5835\n",
      "Epoch 54/100\n",
      "43/43 [==============================] - 0s 3ms/step - loss: 1.3295 - accuracy: 0.5200\n",
      "Epoch 55/100\n",
      "43/43 [==============================] - 0s 3ms/step - loss: 0.7977 - accuracy: 0.5835\n",
      "Epoch 56/100\n",
      "43/43 [==============================] - 0s 3ms/step - loss: 0.7711 - accuracy: 0.5788\n",
      "Epoch 57/100\n",
      "43/43 [==============================] - 0s 3ms/step - loss: 1.0660 - accuracy: 0.5082\n",
      "Epoch 58/100\n",
      "43/43 [==============================] - 0s 3ms/step - loss: 0.7848 - accuracy: 0.5694\n",
      "Epoch 59/100\n",
      "43/43 [==============================] - 0s 3ms/step - loss: 1.0751 - accuracy: 0.5624\n",
      "Epoch 60/100\n",
      "43/43 [==============================] - 0s 2ms/step - loss: 0.9160 - accuracy: 0.5671\n",
      "Epoch 61/100\n",
      "43/43 [==============================] - 0s 3ms/step - loss: 0.9977 - accuracy: 0.5482\n",
      "Epoch 62/100\n",
      "43/43 [==============================] - 0s 3ms/step - loss: 1.1069 - accuracy: 0.5906\n",
      "Epoch 63/100\n",
      "43/43 [==============================] - 0s 3ms/step - loss: 0.8608 - accuracy: 0.5906\n",
      "Epoch 64/100\n",
      "43/43 [==============================] - 0s 3ms/step - loss: 1.0145 - accuracy: 0.5341\n",
      "Epoch 65/100\n",
      "43/43 [==============================] - 0s 3ms/step - loss: 0.7465 - accuracy: 0.6071\n",
      "Epoch 66/100\n",
      "43/43 [==============================] - 0s 3ms/step - loss: 0.7634 - accuracy: 0.5835\n",
      "Epoch 67/100\n",
      "43/43 [==============================] - 0s 4ms/step - loss: 0.8638 - accuracy: 0.5671\n",
      "Epoch 68/100\n",
      "43/43 [==============================] - 0s 3ms/step - loss: 0.7322 - accuracy: 0.5671\n",
      "Epoch 69/100\n",
      "43/43 [==============================] - 0s 3ms/step - loss: 0.6945 - accuracy: 0.5976\n",
      "Epoch 70/100\n",
      "43/43 [==============================] - 0s 3ms/step - loss: 0.7646 - accuracy: 0.5765\n",
      "Epoch 71/100\n",
      "43/43 [==============================] - 0s 3ms/step - loss: 0.7265 - accuracy: 0.5671\n",
      "Epoch 72/100\n",
      "43/43 [==============================] - 0s 4ms/step - loss: 0.7041 - accuracy: 0.6141\n",
      "Epoch 73/100\n",
      "43/43 [==============================] - 0s 3ms/step - loss: 0.7156 - accuracy: 0.6329\n",
      "Epoch 74/100\n",
      "43/43 [==============================] - 0s 3ms/step - loss: 0.7833 - accuracy: 0.5929\n",
      "Epoch 75/100\n",
      "43/43 [==============================] - 0s 4ms/step - loss: 0.9049 - accuracy: 0.5906\n",
      "Epoch 76/100\n",
      "43/43 [==============================] - 0s 3ms/step - loss: 0.7513 - accuracy: 0.6000\n",
      "Epoch 77/100\n",
      "43/43 [==============================] - 0s 4ms/step - loss: 0.7928 - accuracy: 0.5859\n",
      "Epoch 78/100\n",
      "43/43 [==============================] - 0s 3ms/step - loss: 0.7237 - accuracy: 0.5953\n",
      "Epoch 79/100\n",
      "43/43 [==============================] - 0s 3ms/step - loss: 0.7819 - accuracy: 0.5835\n",
      "Epoch 80/100\n",
      "43/43 [==============================] - 0s 3ms/step - loss: 1.0810 - accuracy: 0.5624\n",
      "Epoch 81/100\n",
      "43/43 [==============================] - 0s 3ms/step - loss: 0.8107 - accuracy: 0.5718\n",
      "Epoch 82/100\n",
      "43/43 [==============================] - 0s 3ms/step - loss: 0.7307 - accuracy: 0.6047\n",
      "Epoch 83/100\n"
     ]
    },
    {
     "name": "stdout",
     "output_type": "stream",
     "text": [
      "43/43 [==============================] - 0s 3ms/step - loss: 0.9854 - accuracy: 0.5647\n",
      "Epoch 84/100\n",
      "43/43 [==============================] - 0s 2ms/step - loss: 0.7437 - accuracy: 0.6212\n",
      "Epoch 85/100\n",
      "43/43 [==============================] - 0s 2ms/step - loss: 0.7167 - accuracy: 0.6094\n",
      "Epoch 86/100\n",
      "43/43 [==============================] - 0s 2ms/step - loss: 0.8363 - accuracy: 0.5600\n",
      "Epoch 87/100\n",
      "43/43 [==============================] - 0s 3ms/step - loss: 0.6606 - accuracy: 0.6306\n",
      "Epoch 88/100\n",
      "43/43 [==============================] - 0s 2ms/step - loss: 0.6952 - accuracy: 0.6212\n",
      "Epoch 89/100\n",
      "43/43 [==============================] - 0s 3ms/step - loss: 0.7665 - accuracy: 0.6094\n",
      "Epoch 90/100\n",
      "43/43 [==============================] - 0s 2ms/step - loss: 0.6594 - accuracy: 0.6165\n",
      "Epoch 91/100\n",
      "43/43 [==============================] - 0s 2ms/step - loss: 0.7553 - accuracy: 0.5882\n",
      "Epoch 92/100\n",
      "43/43 [==============================] - 0s 2ms/step - loss: 0.7030 - accuracy: 0.5929\n",
      "Epoch 93/100\n",
      "43/43 [==============================] - 0s 2ms/step - loss: 0.6763 - accuracy: 0.5976\n",
      "Epoch 94/100\n",
      "43/43 [==============================] - 0s 2ms/step - loss: 0.6816 - accuracy: 0.6165\n",
      "Epoch 95/100\n",
      "43/43 [==============================] - 0s 2ms/step - loss: 0.7227 - accuracy: 0.5694\n",
      "Epoch 96/100\n",
      "43/43 [==============================] - 0s 2ms/step - loss: 0.7267 - accuracy: 0.6024\n",
      "Epoch 97/100\n",
      "43/43 [==============================] - 0s 2ms/step - loss: 0.6949 - accuracy: 0.6000\n",
      "Epoch 98/100\n",
      "43/43 [==============================] - 0s 2ms/step - loss: 0.8116 - accuracy: 0.5859\n",
      "Epoch 99/100\n",
      "43/43 [==============================] - 0s 2ms/step - loss: 0.8879 - accuracy: 0.5835\n",
      "Epoch 100/100\n",
      "43/43 [==============================] - 0s 2ms/step - loss: 0.9620 - accuracy: 0.5671\n"
     ]
    },
    {
     "data": {
      "text/plain": [
       "<keras.callbacks.History at 0x28a18e46d00>"
      ]
     },
     "execution_count": 40,
     "metadata": {},
     "output_type": "execute_result"
    }
   ],
   "source": [
    "model.fit(np.array(X_data), np.array(Y_data),  epochs=100 , batch_size = 10)"
   ]
  },
  {
   "cell_type": "code",
   "execution_count": null,
   "id": "e0ed8a34",
   "metadata": {},
   "outputs": [],
   "source": []
  },
  {
   "cell_type": "code",
   "execution_count": null,
   "id": "815ad02c",
   "metadata": {},
   "outputs": [],
   "source": []
  },
  {
   "cell_type": "markdown",
   "id": "e0db4df9",
   "metadata": {},
   "source": [
    "# OPENCV"
   ]
  },
  {
   "cell_type": "code",
   "execution_count": 1,
   "id": "3320cf4f",
   "metadata": {
    "ExecuteTime": {
     "end_time": "2022-05-11T07:46:09.878898Z",
     "start_time": "2022-05-11T07:46:09.254895Z"
    }
   },
   "outputs": [],
   "source": [
    "import numpy as np\n",
    "import cv2"
   ]
  },
  {
   "cell_type": "code",
   "execution_count": 2,
   "id": "06f9f7a1",
   "metadata": {
    "ExecuteTime": {
     "end_time": "2022-05-11T07:46:09.910885Z",
     "start_time": "2022-05-11T07:46:09.886912Z"
    }
   },
   "outputs": [
    {
     "data": {
      "text/plain": [
       "'4.5.5'"
      ]
     },
     "execution_count": 2,
     "metadata": {},
     "output_type": "execute_result"
    }
   ],
   "source": [
    "cv2.__version__"
   ]
  },
  {
   "cell_type": "code",
   "execution_count": 3,
   "id": "b165140d",
   "metadata": {
    "ExecuteTime": {
     "end_time": "2022-05-11T07:46:09.926875Z",
     "start_time": "2022-05-11T07:46:09.916883Z"
    }
   },
   "outputs": [],
   "source": [
    "image = np.zeros((200, 400), np.uint8)"
   ]
  },
  {
   "cell_type": "code",
   "execution_count": 4,
   "id": "2d0e52bf",
   "metadata": {
    "ExecuteTime": {
     "end_time": "2022-05-11T07:46:09.974850Z",
     "start_time": "2022-05-11T07:46:09.936871Z"
    }
   },
   "outputs": [
    {
     "data": {
      "text/plain": [
       "array([[200, 200, 200, ..., 200, 200, 200],\n",
       "       [200, 200, 200, ..., 200, 200, 200],\n",
       "       [200, 200, 200, ..., 200, 200, 200],\n",
       "       ...,\n",
       "       [200, 200, 200, ..., 200, 200, 200],\n",
       "       [200, 200, 200, ..., 200, 200, 200],\n",
       "       [200, 200, 200, ..., 200, 200, 200]], dtype=uint8)"
      ]
     },
     "execution_count": 4,
     "metadata": {},
     "output_type": "execute_result"
    }
   ],
   "source": [
    "image[:] = 200\n",
    "image"
   ]
  },
  {
   "cell_type": "code",
   "execution_count": 5,
   "id": "90c95d81",
   "metadata": {
    "ExecuteTime": {
     "end_time": "2022-05-11T07:46:10.194277Z",
     "start_time": "2022-05-11T07:46:10.180283Z"
    }
   },
   "outputs": [],
   "source": [
    "title1, title2 = 'First Screen', 'second Window'"
   ]
  },
  {
   "cell_type": "code",
   "execution_count": 7,
   "id": "5aa80e68",
   "metadata": {
    "ExecuteTime": {
     "end_time": "2022-05-11T07:34:04.796839Z",
     "start_time": "2022-05-11T07:34:04.718884Z"
    }
   },
   "outputs": [],
   "source": [
    "cv2.namedWindow(title1, cv2.WINDOW_AUTOSIZE)"
   ]
  },
  {
   "cell_type": "code",
   "execution_count": 8,
   "id": "9efe6297",
   "metadata": {
    "ExecuteTime": {
     "end_time": "2022-05-11T07:34:05.141640Z",
     "start_time": "2022-05-11T07:34:05.091670Z"
    }
   },
   "outputs": [
    {
     "ename": "error",
     "evalue": "OpenCV(4.5.5) :-1: error: (-5:Bad argument) in function 'imshow'\n> Overload resolution failed:\n>  - imshow() missing required argument 'mat' (pos 2)\n>  - imshow() missing required argument 'mat' (pos 2)\n>  - imshow() missing required argument 'mat' (pos 2)\n",
     "output_type": "error",
     "traceback": [
      "\u001b[1;31m---------------------------------------------------------------------------\u001b[0m",
      "\u001b[1;31merror\u001b[0m                                     Traceback (most recent call last)",
      "Input \u001b[1;32mIn [8]\u001b[0m, in \u001b[0;36m<cell line: 2>\u001b[1;34m()\u001b[0m\n\u001b[0;32m      1\u001b[0m cv2\u001b[38;5;241m.\u001b[39mimshow(title1, image)\n\u001b[1;32m----> 2\u001b[0m \u001b[43mcv2\u001b[49m\u001b[38;5;241;43m.\u001b[39;49m\u001b[43mimshow\u001b[49m\u001b[43m(\u001b[49m\u001b[43mtitle2\u001b[49m\u001b[43m)\u001b[49m\n",
      "\u001b[1;31merror\u001b[0m: OpenCV(4.5.5) :-1: error: (-5:Bad argument) in function 'imshow'\n> Overload resolution failed:\n>  - imshow() missing required argument 'mat' (pos 2)\n>  - imshow() missing required argument 'mat' (pos 2)\n>  - imshow() missing required argument 'mat' (pos 2)\n"
     ]
    }
   ],
   "source": [
    "cv2.imshow(title1, image)\n",
    "cv2.imshow(title2)"
   ]
  },
  {
   "cell_type": "code",
   "execution_count": 1,
   "id": "ff2a69d8",
   "metadata": {
    "ExecuteTime": {
     "end_time": "2022-05-11T07:33:59.587129Z",
     "start_time": "2022-05-11T07:33:58.612689Z"
    }
   },
   "outputs": [
    {
     "ename": "NameError",
     "evalue": "name 'cv2' is not defined",
     "output_type": "error",
     "traceback": [
      "\u001b[1;31m---------------------------------------------------------------------------\u001b[0m",
      "\u001b[1;31mNameError\u001b[0m                                 Traceback (most recent call last)",
      "Input \u001b[1;32mIn [1]\u001b[0m, in \u001b[0;36m<cell line: 1>\u001b[1;34m()\u001b[0m\n\u001b[1;32m----> 1\u001b[0m \u001b[43mcv2\u001b[49m\u001b[38;5;241m.\u001b[39mwaitKey(\u001b[38;5;241m0\u001b[39m)\n\u001b[0;32m      2\u001b[0m cv2\u001b[38;5;241m.\u001b[39mdestroyAllWindows()\n",
      "\u001b[1;31mNameError\u001b[0m: name 'cv2' is not defined"
     ]
    }
   ],
   "source": [
    "cv2.waitKey(0)\n",
    "cv2.destroyAllWindows()"
   ]
  },
  {
   "cell_type": "code",
   "execution_count": null,
   "id": "0f3b44c7",
   "metadata": {},
   "outputs": [],
   "source": []
  },
  {
   "cell_type": "code",
   "execution_count": null,
   "id": "e5737db8",
   "metadata": {},
   "outputs": [],
   "source": []
  },
  {
   "cell_type": "code",
   "execution_count": 6,
   "id": "96854717",
   "metadata": {
    "ExecuteTime": {
     "end_time": "2022-05-11T07:46:16.721051Z",
     "start_time": "2022-05-11T07:46:12.604734Z"
    }
   },
   "outputs": [
    {
     "name": "stdout",
     "output_type": "stream",
     "text": [
      "윗쪽 화살표키 입력\n",
      "오른쪽 화살표키 입력\n",
      "왼쪽 화살표키 입력\n",
      "아랫쪽 화살표키 입력\n",
      "왼쪽 화살표키 입력\n",
      "아랫쪽 화살표키 입력\n",
      "오른쪽 화살표키 입력\n",
      "왼쪽 화살표키 입력\n",
      "아랫쪽 화살표키 입력\n",
      "오른쪽 화살표키 입력\n",
      "윗쪽 화살표키 입력\n",
      "오른쪽 화살표키 입력\n",
      "왼쪽 화살표키 입력\n"
     ]
    }
   ],
   "source": [
    "switch_case = {\n",
    "    ord('a') : 'a키 입력',\n",
    "    ord('b') : 'b키 입력',\n",
    "    0x41 : 'A키입력',\n",
    "    int('0x42', 16) : \"B키 입력\",\n",
    "    2424832 : \"왼쪽 화살표키 입력\",\n",
    "    2490368 : \"윗쪽 화살표키 입력\",\n",
    "    2555904 : \"오른쪽 화살표키 입력\",\n",
    "    2621440 : \"아랫쪽 화살표키 입력\"\n",
    "}\n",
    "\n",
    "image = np.ones((200,300), np.float64)\n",
    "\n",
    "cv2.namedWindow(\"Keyboard Event\")\n",
    "cv2.imshow(\"Keyboard Event\", image)\n",
    "\n",
    "while True :\n",
    "    key = cv2.waitKeyEx(100)\n",
    "    if key == 27 : break\n",
    "    \n",
    "    try :\n",
    "        result = switch_case[key]\n",
    "        print(result)\n",
    "    except KeyError :\n",
    "        result = -1\n",
    "\n",
    "cv2.destroyAllWindows()\n",
    "        "
   ]
  },
  {
   "cell_type": "code",
   "execution_count": null,
   "id": "b0d5d753",
   "metadata": {},
   "outputs": [],
   "source": []
  },
  {
   "cell_type": "code",
   "execution_count": null,
   "id": "dd361f79",
   "metadata": {},
   "outputs": [],
   "source": []
  },
  {
   "cell_type": "code",
   "execution_count": null,
   "id": "d51161af",
   "metadata": {},
   "outputs": [],
   "source": []
  },
  {
   "cell_type": "code",
   "execution_count": null,
   "id": "a3c361ea",
   "metadata": {},
   "outputs": [],
   "source": [
    "\n",
    "\n",
    "import cv2\n",
    "import numpy as np\n",
    "import tensorflow as tf\n",
    "\n",
    "\n",
    "\n",
    "\n",
    "image = np.zeros((200,400),np.uint8)\n",
    "\n",
    "\n",
    "image[:] = 200\n",
    "\n",
    "\n",
    "title1, title2 = 'first window','second window'\n",
    "\n",
    "\n",
    "swich_case = {\n",
    "        ord('a'): 'a키입력',\n",
    "        ord('b'): 'b키입력',\n",
    "        0x41: 'A키입력',\n",
    "        int(\"0x42\",16):\"B키입력\",\n",
    "        2424832 : \"왼쪽 화살표키 입력\",\n",
    "        2490368 : \"윗쪽 화살표키 입력\",\n",
    "        2555904 : \"오른쪽 화살표키 입력\",\n",
    "        2621440 : \"아래쪽 화살표키 입력\",\n",
    "        27: \"esc입력\"\n",
    "        }\n",
    "\n",
    "\n",
    "\n",
    "cv2.namedWindow(title1, cv2.WINDOW_AUTOSIZE)\n",
    "cv2.namedWindow(\"Keyboard_Event\")\n",
    "# cv2.namedWindow(title2, cv2.WINDOW_NORMAL)\n",
    "# # cv2.moveWindow(title1, 150,150)\n",
    "# cv2.moveWindow(title2, 400,50)\n",
    "# cv2.imshow(title1, image)\n",
    "\n",
    "cv2.imshow(\"Keyboard_Event\", image)\n",
    "while True:\n",
    "    key = cv2.waitKeyEx(100)\n",
    "    if key == 27: \n",
    "        break\n",
    "    try:\n",
    "        result = swich_case[key]\n",
    "        print(result)\n",
    "    \n",
    "    except KeyError:\n",
    "        result = -1\n",
    "# cv2.resizeWindow(title1, 400,300)\n",
    "# cv2.resizeWindow(title2, 400,300)\n",
    "# cv2.waitKey(0)\n",
    "\n",
    "cv2.destroyAllWindows()\n",
    "cv2.waitKey(1)"
   ]
  }
 ],
 "metadata": {
  "kernelspec": {
   "display_name": "Python 3 (ipykernel)",
   "language": "python",
   "name": "python3"
  },
  "language_info": {
   "codemirror_mode": {
    "name": "ipython",
    "version": 3
   },
   "file_extension": ".py",
   "mimetype": "text/x-python",
   "name": "python",
   "nbconvert_exporter": "python",
   "pygments_lexer": "ipython3",
   "version": "3.8.8"
  },
  "toc": {
   "base_numbering": 1,
   "nav_menu": {},
   "number_sections": true,
   "sideBar": true,
   "skip_h1_title": false,
   "title_cell": "Table of Contents",
   "title_sidebar": "Contents",
   "toc_cell": false,
   "toc_position": {},
   "toc_section_display": true,
   "toc_window_display": false
  }
 },
 "nbformat": 4,
 "nbformat_minor": 5
}
